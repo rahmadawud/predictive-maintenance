{
 "cells": [
  {
   "attachments": {},
   "cell_type": "markdown",
   "metadata": {},
   "source": [
    "# Modeling and evaluation\n",
    "###  Multi-class classification\n",
    "\n",
    "### Outline\n",
    "  * Import training data\n",
    "  * Categorical encoding for the machine \"model\"\n",
    "  * Target integer encoding\n",
    "  * Train-validation-test split\n",
    "  * MLP model\n",
    "  * MLP model optimization\n",
    "  * LightGBM"
   ]
  },
  {
   "cell_type": "code",
   "execution_count": 175,
   "metadata": {},
   "outputs": [],
   "source": [
    "# Import the necessary libraries\n",
    "import os\n",
    "from datetime import datetime, timedelta\n",
    "\n",
    "import keras.backend as K\n",
    "import matplotlib.pyplot as plt\n",
    "import numpy as np\n",
    "import optuna\n",
    "import pandas as pd\n",
    "import seaborn as sns\n",
    "import tensorflow as tf\n",
    "from keras.layers import Dense, Dropout\n",
    "from keras.models import Sequential, load_model\n",
    "from keras.optimizers import Adam\n",
    "from keras.utils import custom_object_scope, to_categorical\n",
    "from lightgbm import LGBMClassifier\n",
    "from optuna.integration import TFKerasPruningCallback\n",
    "from sklearn.metrics import classification_report, confusion_matrix\n",
    "from sklearn.preprocessing import StandardScaler\n",
    "from sklearn.utils.class_weight import compute_class_weight"
   ]
  },
  {
   "cell_type": "code",
   "execution_count": 176,
   "metadata": {},
   "outputs": [],
   "source": [
    "# Style for the plots\n",
    "sns.set_style(\"darkgrid\")\n",
    "sns.set_palette(\"Set2\")\n",
    "sns.set_context(\"notebook\", font_scale=1.5, rc={\"lines.linewidth\": 2.5})"
   ]
  },
  {
   "attachments": {},
   "cell_type": "markdown",
   "metadata": {},
   "source": [
    "### Load Data\n",
    "\n",
    "Load the training data which is created at the feature engineering stage"
   ]
  },
  {
   "cell_type": "code",
   "execution_count": 177,
   "metadata": {},
   "outputs": [],
   "source": [
    "# Load the training data\n",
    "train_data = pd.read_parquet(\"./data/training_data.parquet\")"
   ]
  },
  {
   "cell_type": "code",
   "execution_count": 178,
   "metadata": {},
   "outputs": [
    {
     "data": {
      "text/html": [
       "<div>\n",
       "<style scoped>\n",
       "    .dataframe tbody tr th:only-of-type {\n",
       "        vertical-align: middle;\n",
       "    }\n",
       "\n",
       "    .dataframe tbody tr th {\n",
       "        vertical-align: top;\n",
       "    }\n",
       "\n",
       "    .dataframe thead th {\n",
       "        text-align: right;\n",
       "    }\n",
       "</style>\n",
       "<table border=\"1\" class=\"dataframe\">\n",
       "  <thead>\n",
       "    <tr style=\"text-align: right;\">\n",
       "      <th></th>\n",
       "      <th>machineID</th>\n",
       "      <th>datetime</th>\n",
       "      <th>volt_mean_4h</th>\n",
       "      <th>volt_std_4h</th>\n",
       "      <th>rotate_mean_4h</th>\n",
       "      <th>rotate_std_4h</th>\n",
       "      <th>pressure_mean_4h</th>\n",
       "      <th>pressure_std_4h</th>\n",
       "      <th>vibration_mean_4h</th>\n",
       "      <th>vibration_std_4h</th>\n",
       "      <th>...</th>\n",
       "      <th>error3_sum_48h</th>\n",
       "      <th>error4_sum_48h</th>\n",
       "      <th>error5_sum_48h</th>\n",
       "      <th>comp1</th>\n",
       "      <th>comp2</th>\n",
       "      <th>comp3</th>\n",
       "      <th>comp4</th>\n",
       "      <th>model</th>\n",
       "      <th>age</th>\n",
       "      <th>failure</th>\n",
       "    </tr>\n",
       "  </thead>\n",
       "  <tbody>\n",
       "    <tr>\n",
       "      <th>0</th>\n",
       "      <td>1</td>\n",
       "      <td>2015-01-03 05:00:00</td>\n",
       "      <td>180.694192</td>\n",
       "      <td>9.610191</td>\n",
       "      <td>485.046875</td>\n",
       "      <td>46.151381</td>\n",
       "      <td>95.428381</td>\n",
       "      <td>4.437964</td>\n",
       "      <td>37.832936</td>\n",
       "      <td>6.458281</td>\n",
       "      <td>...</td>\n",
       "      <td>0.0</td>\n",
       "      <td>0.0</td>\n",
       "      <td>0.0</td>\n",
       "      <td>20.958333</td>\n",
       "      <td>215.958333</td>\n",
       "      <td>155.958333</td>\n",
       "      <td>170.958333</td>\n",
       "      <td>model3</td>\n",
       "      <td>18</td>\n",
       "      <td>Normal</td>\n",
       "    </tr>\n",
       "    <tr>\n",
       "      <th>1</th>\n",
       "      <td>1</td>\n",
       "      <td>2015-01-03 06:00:00</td>\n",
       "      <td>180.666104</td>\n",
       "      <td>9.621991</td>\n",
       "      <td>469.576558</td>\n",
       "      <td>39.616761</td>\n",
       "      <td>94.209279</td>\n",
       "      <td>2.410554</td>\n",
       "      <td>42.215156</td>\n",
       "      <td>9.533812</td>\n",
       "      <td>...</td>\n",
       "      <td>0.0</td>\n",
       "      <td>0.0</td>\n",
       "      <td>0.0</td>\n",
       "      <td>21.000000</td>\n",
       "      <td>216.000000</td>\n",
       "      <td>156.000000</td>\n",
       "      <td>171.000000</td>\n",
       "      <td>model3</td>\n",
       "      <td>18</td>\n",
       "      <td>comp4</td>\n",
       "    </tr>\n",
       "    <tr>\n",
       "      <th>2</th>\n",
       "      <td>1</td>\n",
       "      <td>2015-01-03 07:00:00</td>\n",
       "      <td>180.472154</td>\n",
       "      <td>9.754595</td>\n",
       "      <td>463.636015</td>\n",
       "      <td>32.652890</td>\n",
       "      <td>97.226801</td>\n",
       "      <td>5.232113</td>\n",
       "      <td>45.090099</td>\n",
       "      <td>8.898822</td>\n",
       "      <td>...</td>\n",
       "      <td>0.0</td>\n",
       "      <td>0.0</td>\n",
       "      <td>0.0</td>\n",
       "      <td>21.041667</td>\n",
       "      <td>216.041667</td>\n",
       "      <td>156.041667</td>\n",
       "      <td>171.041667</td>\n",
       "      <td>model3</td>\n",
       "      <td>18</td>\n",
       "      <td>comp4</td>\n",
       "    </tr>\n",
       "    <tr>\n",
       "      <th>3</th>\n",
       "      <td>1</td>\n",
       "      <td>2015-01-03 08:00:00</td>\n",
       "      <td>172.821801</td>\n",
       "      <td>5.835065</td>\n",
       "      <td>501.168525</td>\n",
       "      <td>47.092576</td>\n",
       "      <td>96.874856</td>\n",
       "      <td>5.396217</td>\n",
       "      <td>45.555083</td>\n",
       "      <td>9.089829</td>\n",
       "      <td>...</td>\n",
       "      <td>0.0</td>\n",
       "      <td>0.0</td>\n",
       "      <td>0.0</td>\n",
       "      <td>21.083333</td>\n",
       "      <td>216.083333</td>\n",
       "      <td>156.083333</td>\n",
       "      <td>171.083333</td>\n",
       "      <td>model3</td>\n",
       "      <td>18</td>\n",
       "      <td>comp4</td>\n",
       "    </tr>\n",
       "    <tr>\n",
       "      <th>4</th>\n",
       "      <td>1</td>\n",
       "      <td>2015-01-03 09:00:00</td>\n",
       "      <td>172.153274</td>\n",
       "      <td>5.786929</td>\n",
       "      <td>492.435436</td>\n",
       "      <td>52.918165</td>\n",
       "      <td>95.204932</td>\n",
       "      <td>7.893687</td>\n",
       "      <td>49.398795</td>\n",
       "      <td>2.469875</td>\n",
       "      <td>...</td>\n",
       "      <td>0.0</td>\n",
       "      <td>0.0</td>\n",
       "      <td>0.0</td>\n",
       "      <td>21.125000</td>\n",
       "      <td>216.125000</td>\n",
       "      <td>156.125000</td>\n",
       "      <td>171.125000</td>\n",
       "      <td>model3</td>\n",
       "      <td>18</td>\n",
       "      <td>comp4</td>\n",
       "    </tr>\n",
       "  </tbody>\n",
       "</table>\n",
       "<p>5 rows × 30 columns</p>\n",
       "</div>"
      ],
      "text/plain": [
       "   machineID            datetime  volt_mean_4h  volt_std_4h  rotate_mean_4h   \n",
       "0          1 2015-01-03 05:00:00    180.694192     9.610191      485.046875  \\\n",
       "1          1 2015-01-03 06:00:00    180.666104     9.621991      469.576558   \n",
       "2          1 2015-01-03 07:00:00    180.472154     9.754595      463.636015   \n",
       "3          1 2015-01-03 08:00:00    172.821801     5.835065      501.168525   \n",
       "4          1 2015-01-03 09:00:00    172.153274     5.786929      492.435436   \n",
       "\n",
       "   rotate_std_4h  pressure_mean_4h  pressure_std_4h  vibration_mean_4h   \n",
       "0      46.151381         95.428381         4.437964          37.832936  \\\n",
       "1      39.616761         94.209279         2.410554          42.215156   \n",
       "2      32.652890         97.226801         5.232113          45.090099   \n",
       "3      47.092576         96.874856         5.396217          45.555083   \n",
       "4      52.918165         95.204932         7.893687          49.398795   \n",
       "\n",
       "   vibration_std_4h  ...  error3_sum_48h  error4_sum_48h  error5_sum_48h   \n",
       "0          6.458281  ...             0.0             0.0             0.0  \\\n",
       "1          9.533812  ...             0.0             0.0             0.0   \n",
       "2          8.898822  ...             0.0             0.0             0.0   \n",
       "3          9.089829  ...             0.0             0.0             0.0   \n",
       "4          2.469875  ...             0.0             0.0             0.0   \n",
       "\n",
       "       comp1       comp2       comp3       comp4   model  age  failure  \n",
       "0  20.958333  215.958333  155.958333  170.958333  model3   18   Normal  \n",
       "1  21.000000  216.000000  156.000000  171.000000  model3   18    comp4  \n",
       "2  21.041667  216.041667  156.041667  171.041667  model3   18    comp4  \n",
       "3  21.083333  216.083333  156.083333  171.083333  model3   18    comp4  \n",
       "4  21.125000  216.125000  156.125000  171.125000  model3   18    comp4  \n",
       "\n",
       "[5 rows x 30 columns]"
      ]
     },
     "execution_count": 178,
     "metadata": {},
     "output_type": "execute_result"
    }
   ],
   "source": [
    "train_data.head()"
   ]
  },
  {
   "attachments": {},
   "cell_type": "markdown",
   "metadata": {},
   "source": [
    "### Class imbalance \n",
    "\n",
    "Data is extreamly imbalanced. Failures are rare. This will be challenging and we need to deal with it. "
   ]
  },
  {
   "cell_type": "code",
   "execution_count": 179,
   "metadata": {},
   "outputs": [
    {
     "data": {
      "image/png": "[encoded data removed]",
      "text/plain": [
       "<Figure size 600x400 with 1 Axes>"
      ]
     },
     "metadata": {},
     "output_type": "display_data"
    }
   ],
   "source": [
    "# For a better visualization, plot failure vs, Normal\n",
    "# Bundle the comp1, comp2, comp3, comp4 together as \"Failure\" in a separate dataframe\n",
    "grouped = (\n",
    "    train_data[\"failure\"]\n",
    "    .replace([\"comp1\", \"comp2\", \"comp3\", \"comp4\"], \"Failure\")\n",
    "    .value_counts()\n",
    ")\n",
    "# plot the pie chart\n",
    "fig, ax = plt.subplots(figsize=(6, 4))\n",
    "ax.pie(\n",
    "    grouped.values,\n",
    "    labels=grouped.index,\n",
    "    autopct=\"%1.1f%%\",\n",
    "    startangle=90,\n",
    "    textprops={\"fontsize\": 12},\n",
    ")\n",
    "ax.set_title(\"Class Imbalance\", fontsize=16)\n",
    "plt.show()"
   ]
  },
  {
   "attachments": {},
   "cell_type": "markdown",
   "metadata": {},
   "source": [
    "### Categorical encoding\n",
    "\n",
    "The only categorical feature we have is model, we will do dummy encoding. "
   ]
  },
  {
   "cell_type": "code",
   "execution_count": 180,
   "metadata": {},
   "outputs": [],
   "source": [
    "# Dummy encode the model feature\n",
    "train_data = pd.get_dummies(train_data, columns=[\"model\"])"
   ]
  },
  {
   "attachments": {},
   "cell_type": "markdown",
   "metadata": {},
   "source": [
    "Convert the target classes to integers. We have 5 classes. Normal and component failures 1 - 4. "
   ]
  },
  {
   "cell_type": "code",
   "execution_count": 181,
   "metadata": {},
   "outputs": [
    {
     "data": {
      "text/html": [
       "<div>\n",
       "<style scoped>\n",
       "    .dataframe tbody tr th:only-of-type {\n",
       "        vertical-align: middle;\n",
       "    }\n",
       "\n",
       "    .dataframe tbody tr th {\n",
       "        vertical-align: top;\n",
       "    }\n",
       "\n",
       "    .dataframe thead th {\n",
       "        text-align: right;\n",
       "    }\n",
       "</style>\n",
       "<table border=\"1\" class=\"dataframe\">\n",
       "  <thead>\n",
       "    <tr style=\"text-align: right;\">\n",
       "      <th></th>\n",
       "      <th>machineID</th>\n",
       "      <th>datetime</th>\n",
       "      <th>volt_mean_4h</th>\n",
       "      <th>volt_std_4h</th>\n",
       "      <th>rotate_mean_4h</th>\n",
       "      <th>rotate_std_4h</th>\n",
       "      <th>pressure_mean_4h</th>\n",
       "      <th>pressure_std_4h</th>\n",
       "      <th>vibration_mean_4h</th>\n",
       "      <th>vibration_std_4h</th>\n",
       "      <th>...</th>\n",
       "      <th>comp1</th>\n",
       "      <th>comp2</th>\n",
       "      <th>comp3</th>\n",
       "      <th>comp4</th>\n",
       "      <th>age</th>\n",
       "      <th>failure</th>\n",
       "      <th>model_model1</th>\n",
       "      <th>model_model2</th>\n",
       "      <th>model_model3</th>\n",
       "      <th>model_model4</th>\n",
       "    </tr>\n",
       "  </thead>\n",
       "  <tbody>\n",
       "    <tr>\n",
       "      <th>0</th>\n",
       "      <td>1</td>\n",
       "      <td>2015-01-03 05:00:00</td>\n",
       "      <td>180.694192</td>\n",
       "      <td>9.610191</td>\n",
       "      <td>485.046875</td>\n",
       "      <td>46.151381</td>\n",
       "      <td>95.428381</td>\n",
       "      <td>4.437964</td>\n",
       "      <td>37.832936</td>\n",
       "      <td>6.458281</td>\n",
       "      <td>...</td>\n",
       "      <td>20.958333</td>\n",
       "      <td>215.958333</td>\n",
       "      <td>155.958333</td>\n",
       "      <td>170.958333</td>\n",
       "      <td>18</td>\n",
       "      <td>0</td>\n",
       "      <td>False</td>\n",
       "      <td>False</td>\n",
       "      <td>True</td>\n",
       "      <td>False</td>\n",
       "    </tr>\n",
       "    <tr>\n",
       "      <th>1</th>\n",
       "      <td>1</td>\n",
       "      <td>2015-01-03 06:00:00</td>\n",
       "      <td>180.666104</td>\n",
       "      <td>9.621991</td>\n",
       "      <td>469.576558</td>\n",
       "      <td>39.616761</td>\n",
       "      <td>94.209279</td>\n",
       "      <td>2.410554</td>\n",
       "      <td>42.215156</td>\n",
       "      <td>9.533812</td>\n",
       "      <td>...</td>\n",
       "      <td>21.000000</td>\n",
       "      <td>216.000000</td>\n",
       "      <td>156.000000</td>\n",
       "      <td>171.000000</td>\n",
       "      <td>18</td>\n",
       "      <td>4</td>\n",
       "      <td>False</td>\n",
       "      <td>False</td>\n",
       "      <td>True</td>\n",
       "      <td>False</td>\n",
       "    </tr>\n",
       "    <tr>\n",
       "      <th>2</th>\n",
       "      <td>1</td>\n",
       "      <td>2015-01-03 07:00:00</td>\n",
       "      <td>180.472154</td>\n",
       "      <td>9.754595</td>\n",
       "      <td>463.636015</td>\n",
       "      <td>32.652890</td>\n",
       "      <td>97.226801</td>\n",
       "      <td>5.232113</td>\n",
       "      <td>45.090099</td>\n",
       "      <td>8.898822</td>\n",
       "      <td>...</td>\n",
       "      <td>21.041667</td>\n",
       "      <td>216.041667</td>\n",
       "      <td>156.041667</td>\n",
       "      <td>171.041667</td>\n",
       "      <td>18</td>\n",
       "      <td>4</td>\n",
       "      <td>False</td>\n",
       "      <td>False</td>\n",
       "      <td>True</td>\n",
       "      <td>False</td>\n",
       "    </tr>\n",
       "    <tr>\n",
       "      <th>3</th>\n",
       "      <td>1</td>\n",
       "      <td>2015-01-03 08:00:00</td>\n",
       "      <td>172.821801</td>\n",
       "      <td>5.835065</td>\n",
       "      <td>501.168525</td>\n",
       "      <td>47.092576</td>\n",
       "      <td>96.874856</td>\n",
       "      <td>5.396217</td>\n",
       "      <td>45.555083</td>\n",
       "      <td>9.089829</td>\n",
       "      <td>...</td>\n",
       "      <td>21.083333</td>\n",
       "      <td>216.083333</td>\n",
       "      <td>156.083333</td>\n",
       "      <td>171.083333</td>\n",
       "      <td>18</td>\n",
       "      <td>4</td>\n",
       "      <td>False</td>\n",
       "      <td>False</td>\n",
       "      <td>True</td>\n",
       "      <td>False</td>\n",
       "    </tr>\n",
       "    <tr>\n",
       "      <th>4</th>\n",
       "      <td>1</td>\n",
       "      <td>2015-01-03 09:00:00</td>\n",
       "      <td>172.153274</td>\n",
       "      <td>5.786929</td>\n",
       "      <td>492.435436</td>\n",
       "      <td>52.918165</td>\n",
       "      <td>95.204932</td>\n",
       "      <td>7.893687</td>\n",
       "      <td>49.398795</td>\n",
       "      <td>2.469875</td>\n",
       "      <td>...</td>\n",
       "      <td>21.125000</td>\n",
       "      <td>216.125000</td>\n",
       "      <td>156.125000</td>\n",
       "      <td>171.125000</td>\n",
       "      <td>18</td>\n",
       "      <td>4</td>\n",
       "      <td>False</td>\n",
       "      <td>False</td>\n",
       "      <td>True</td>\n",
       "      <td>False</td>\n",
       "    </tr>\n",
       "  </tbody>\n",
       "</table>\n",
       "<p>5 rows × 33 columns</p>\n",
       "</div>"
      ],
      "text/plain": [
       "   machineID            datetime  volt_mean_4h  volt_std_4h  rotate_mean_4h   \n",
       "0          1 2015-01-03 05:00:00    180.694192     9.610191      485.046875  \\\n",
       "1          1 2015-01-03 06:00:00    180.666104     9.621991      469.576558   \n",
       "2          1 2015-01-03 07:00:00    180.472154     9.754595      463.636015   \n",
       "3          1 2015-01-03 08:00:00    172.821801     5.835065      501.168525   \n",
       "4          1 2015-01-03 09:00:00    172.153274     5.786929      492.435436   \n",
       "\n",
       "   rotate_std_4h  pressure_mean_4h  pressure_std_4h  vibration_mean_4h   \n",
       "0      46.151381         95.428381         4.437964          37.832936  \\\n",
       "1      39.616761         94.209279         2.410554          42.215156   \n",
       "2      32.652890         97.226801         5.232113          45.090099   \n",
       "3      47.092576         96.874856         5.396217          45.555083   \n",
       "4      52.918165         95.204932         7.893687          49.398795   \n",
       "\n",
       "   vibration_std_4h  ...      comp1       comp2       comp3       comp4  age   \n",
       "0          6.458281  ...  20.958333  215.958333  155.958333  170.958333   18  \\\n",
       "1          9.533812  ...  21.000000  216.000000  156.000000  171.000000   18   \n",
       "2          8.898822  ...  21.041667  216.041667  156.041667  171.041667   18   \n",
       "3          9.089829  ...  21.083333  216.083333  156.083333  171.083333   18   \n",
       "4          2.469875  ...  21.125000  216.125000  156.125000  171.125000   18   \n",
       "\n",
       "   failure  model_model1  model_model2  model_model3  model_model4  \n",
       "0        0         False         False          True         False  \n",
       "1        4         False         False          True         False  \n",
       "2        4         False         False          True         False  \n",
       "3        4         False         False          True         False  \n",
       "4        4         False         False          True         False  \n",
       "\n",
       "[5 rows x 33 columns]"
      ]
     },
     "execution_count": 181,
     "metadata": {},
     "output_type": "execute_result"
    }
   ],
   "source": [
    "mapping = {\"Normal\": 0, \"comp1\": 1, \"comp2\": 2, \"comp3\": 3, \"comp4\": 4}\n",
    "train_data[\"failure\"] = train_data[\"failure\"].apply(lambda x: mapping[x])\n",
    "train_data.head()"
   ]
  },
  {
   "cell_type": "code",
   "execution_count": 182,
   "metadata": {},
   "outputs": [
    {
     "data": {
      "text/plain": [
       "Index(['machineID', 'datetime', 'volt_mean_4h', 'volt_std_4h',\n",
       "       'rotate_mean_4h', 'rotate_std_4h', 'pressure_mean_4h',\n",
       "       'pressure_std_4h', 'vibration_mean_4h', 'vibration_std_4h',\n",
       "       'volt_mean_48h', 'volt_std_48h', 'rotate_mean_48h', 'rotate_std_48h',\n",
       "       'pressure_mean_48h', 'pressure_std_48h', 'vibration_mean_48h',\n",
       "       'vibration_std_48h', 'error1_sum_48h', 'error2_sum_48h',\n",
       "       'error3_sum_48h', 'error4_sum_48h', 'error5_sum_48h', 'comp1', 'comp2',\n",
       "       'comp3', 'comp4', 'age', 'failure', 'model_model1', 'model_model2',\n",
       "       'model_model3', 'model_model4'],\n",
       "      dtype='object')"
      ]
     },
     "execution_count": 182,
     "metadata": {},
     "output_type": "execute_result"
    }
   ],
   "source": [
    "train_data.columns"
   ]
  },
  {
   "attachments": {},
   "cell_type": "markdown",
   "metadata": {},
   "source": [
    "### Data split: Train, Validation and Testing\n",
    "\n",
    "A careful data split is necessary. This is because we are based on a timeseries data and the features are created with a lagged window. A random split would cause a data leakage. \n",
    "\n",
    "We will just split the data with the time, without shuffling. We will split into train, validation and test sets. \n",
    "\n",
    "Another issue to consider when splitting lagged features is to avoid using the training set information in the validation set, i.e., avoid sharing time windows between the sets. For this reason, we will introduce a gap of 48 hours between the splits (consistent with our largest window size). "
   ]
  },
  {
   "attachments": {},
   "cell_type": "markdown",
   "metadata": {},
   "source": [
    "#### Determine the split dates \n",
    "\n",
    "We will do a 70/15/15 split"
   ]
  },
  {
   "cell_type": "code",
   "execution_count": 184,
   "metadata": {},
   "outputs": [
    {
     "name": "stdout",
     "output_type": "stream",
     "text": [
      "Train split date:  2015-09-15 05:00:00\n",
      "Validation split date:  2015-11-09 05:00:00\n"
     ]
    }
   ],
   "source": [
    "# Start date of data\n",
    "start_date = datetime(2015, 1, 3, 5, 0, 0)\n",
    "# Total number of days in your dataset\n",
    "total_days = 365\n",
    "# Percentage of data for training\n",
    "train_percentage = 0.7\n",
    "\n",
    "train_split_date = start_date + timedelta(days=int(total_days * train_percentage))\n",
    "remaining_days = total_days - int(total_days * train_percentage)\n",
    "\n",
    "validation_split_date = train_split_date + timedelta(days=int(remaining_days / 2))\n",
    "\n",
    "print(\"Train split date: \", train_split_date)\n",
    "print(\"Validation split date: \", validation_split_date)"
   ]
  },
  {
   "cell_type": "code",
   "execution_count": 393,
   "metadata": {},
   "outputs": [],
   "source": [
    "def split_data(df, train_last_date, valid_last_date):\n",
    "    \"\"\"A function to split the data into train, validation and test sets.\n",
    "\n",
    "    Parameters\n",
    "    ----------\n",
    "    df : dataframe\n",
    "        The dataframe to be split.\n",
    "    train_last_date : string\n",
    "        The last date of the training set.\n",
    "    valid_last_date : string\n",
    "        The last date of the validation set.\n",
    "\n",
    "    Returns\n",
    "    -------\n",
    "    X_train : dataframe\n",
    "        The training set.\n",
    "    y_train : dataframe\n",
    "        The labels of the training set.\n",
    "    X_valid : dataframe\n",
    "        The validation set.\n",
    "    y_valid : dataframe\n",
    "        The labels of the validation set.\n",
    "    X_test : dataframe\n",
    "        The test set.\n",
    "    y_test : dataframe\n",
    "        The labels of the test set.\n",
    "    \"\"\"\n",
    "    train_end_date = pd.to_datetime(train_last_date)\n",
    "    # Adding a 48-hour gap\n",
    "    valid_start_date = train_end_date + pd.Timedelta(hours=48)\n",
    "    valid_end_date = pd.to_datetime(valid_last_date)\n",
    "    # Adding a 48-hour gap\n",
    "    test_start_date = valid_end_date + pd.Timedelta(hours=48)\n",
    "    df_train = df[df[\"datetime\"] <= train_end_date]\n",
    "    df_valid = df[\n",
    "        (df[\"datetime\"] > valid_start_date) & (df[\"datetime\"] <= valid_end_date)\n",
    "    ]\n",
    "    df_test = df[df[\"datetime\"] > test_start_date]\n",
    "\n",
    "    X_train = df_train.drop([\"datetime\", \"machineID\", \"failure\"], axis=1)\n",
    "    y_train = df_train[\"failure\"]\n",
    "    X_valid = df_valid.drop([\"datetime\", \"machineID\", \"failure\"], axis=1)\n",
    "    y_valid = df_valid[\"failure\"]\n",
    "    X_test = df_test.drop([\"datetime\", \"machineID\", \"failure\"], axis=1)\n",
    "    y_test = df_test[\"failure\"]\n",
    "\n",
    "    return X_train, y_train, X_valid, y_valid, X_test, y_test"
   ]
  },
  {
   "cell_type": "code",
   "execution_count": 394,
   "metadata": {},
   "outputs": [],
   "source": [
    "X_train, y_train, X_valid, y_valid, X_test, y_test = split_data(\n",
    "    train_data, \"2015-09-15 05:00:00\", \"2015-11-09 05:00:00\"\n",
    ")\n",
    "\n",
    "# Convert the datatypes of the features to float64, so that it can be used in the neural network\n",
    "X_train = X_train.astype(\"float64\")\n",
    "X_test = X_test.astype(\"float64\")\n",
    "X_valid = X_valid.astype(\"float64\")"
   ]
  },
  {
   "cell_type": "code",
   "execution_count": 395,
   "metadata": {},
   "outputs": [],
   "source": [
    "# Save the feature names for later use, when we need to plot the feature importance\n",
    "feature_list = list(X_train.columns)"
   ]
  },
  {
   "cell_type": "code",
   "execution_count": 187,
   "metadata": {},
   "outputs": [
    {
     "data": {
      "text/plain": [
       "((616784, 30), (616784,), (127205, 30), (127205,), (122506, 30), (122506,))"
      ]
     },
     "execution_count": 187,
     "metadata": {},
     "output_type": "execute_result"
    }
   ],
   "source": [
    "X_train.shape, y_train.shape, X_valid.shape, y_valid.shape, X_test.shape, y_test.shape"
   ]
  },
  {
   "attachments": {},
   "cell_type": "markdown",
   "metadata": {},
   "source": [
    "#### How much data do we have in each set\n",
    "\n",
    "We had to make it a dataframe, for the report. "
   ]
  },
  {
   "cell_type": "code",
   "execution_count": 188,
   "metadata": {},
   "outputs": [
    {
     "data": {
      "text/html": [
       "<div>\n",
       "<style scoped>\n",
       "    .dataframe tbody tr th:only-of-type {\n",
       "        vertical-align: middle;\n",
       "    }\n",
       "\n",
       "    .dataframe tbody tr th {\n",
       "        vertical-align: top;\n",
       "    }\n",
       "\n",
       "    .dataframe thead th {\n",
       "        text-align: right;\n",
       "    }\n",
       "</style>\n",
       "<table border=\"1\" class=\"dataframe\">\n",
       "  <thead>\n",
       "    <tr style=\"text-align: right;\">\n",
       "      <th></th>\n",
       "      <th>Training</th>\n",
       "      <th>Validation</th>\n",
       "      <th>Test</th>\n",
       "    </tr>\n",
       "  </thead>\n",
       "  <tbody>\n",
       "    <tr>\n",
       "      <th>comp1</th>\n",
       "      <td>7058</td>\n",
       "      <td>881</td>\n",
       "      <td>1103</td>\n",
       "    </tr>\n",
       "    <tr>\n",
       "      <th>comp2</th>\n",
       "      <td>8574</td>\n",
       "      <td>1712</td>\n",
       "      <td>1816</td>\n",
       "    </tr>\n",
       "    <tr>\n",
       "      <th>comp3</th>\n",
       "      <td>4268</td>\n",
       "      <td>762</td>\n",
       "      <td>737</td>\n",
       "    </tr>\n",
       "    <tr>\n",
       "      <th>comp4</th>\n",
       "      <td>5473</td>\n",
       "      <td>1034</td>\n",
       "      <td>983</td>\n",
       "    </tr>\n",
       "    <tr>\n",
       "      <th>Normal</th>\n",
       "      <td>591411</td>\n",
       "      <td>122816</td>\n",
       "      <td>117867</td>\n",
       "    </tr>\n",
       "  </tbody>\n",
       "</table>\n",
       "</div>"
      ],
      "text/plain": [
       "        Training  Validation    Test\n",
       "comp1       7058         881    1103\n",
       "comp2       8574        1712    1816\n",
       "comp3       4268         762     737\n",
       "comp4       5473        1034     983\n",
       "Normal    591411      122816  117867"
      ]
     },
     "execution_count": 188,
     "metadata": {},
     "output_type": "execute_result"
    }
   ],
   "source": [
    "train_class_count = y_train.value_counts()\n",
    "valid_class_count = y_valid.value_counts()\n",
    "test_class_count = y_test.value_counts()\n",
    "\n",
    "class_count_df = pd.DataFrame(\n",
    "    {\"train\": train_class_count, \"valid\": valid_class_count, \"test\": test_class_count}\n",
    ")\n",
    "# class_count_df = class_count_df.sort_index()\n",
    "class_count_df.index = [\"comp1\", \"comp2\", \"comp3\", \"comp4\", \"Normal\"]\n",
    "class_count_df.columns = [\"Training\", \"Validation\", \"Test\"]\n",
    "class_count_df"
   ]
  },
  {
   "cell_type": "code",
   "execution_count": 396,
   "metadata": {},
   "outputs": [
    {
     "data": {
      "text/plain": [
       "failure\n",
       "0    0.958862\n",
       "2    0.013901\n",
       "1    0.011443\n",
       "4    0.008873\n",
       "3    0.006920\n",
       "Name: proportion, dtype: float64"
      ]
     },
     "execution_count": 396,
     "metadata": {},
     "output_type": "execute_result"
    }
   ],
   "source": [
    "y_train.value_counts(normalize=True)"
   ]
  },
  {
   "attachments": {},
   "cell_type": "markdown",
   "metadata": {},
   "source": [
    "### Class Imbalance\n",
    "\n",
    "There are many ways to deal with the class imbalance. This includes resampling the dataset (undersampling, oversampling the minority) or adjustig the class weights. Otherwise, we also use an approprite evaluation metrics. Using accuracy is a bad idea for our problem.  Instead, we should use metrics such as precision and recall. \n",
    "\n",
    "For our application, a higher recall is what we need. Recall = TP / (TP + FN) measures how good our model finds the actual positives. The assumption is if there will be a failure which we didn't predict correctly, it will lead to a higher overall cost. Since we have a multiple classes, our metric choice is macro average recall. \n",
    "\n",
    "However, since our overall cases of failures are only 4 %, It will be difficult to train a proper model. Hence, we will use class \n",
    "weighting technique. \n",
    "\n"
   ]
  },
  {
   "attachments": {},
   "cell_type": "markdown",
   "metadata": {},
   "source": [
    "#### Class weights for a balanced outcome"
   ]
  },
  {
   "cell_type": "code",
   "execution_count": 401,
   "metadata": {},
   "outputs": [
    {
     "data": {
      "text/plain": [
       "{0: 0.2085804964736875,\n",
       " 1: 17.477585718333806,\n",
       " 2: 14.38731047352461,\n",
       " 3: 28.902717900656047,\n",
       " 4: 22.539155856020464}"
      ]
     },
     "execution_count": 401,
     "metadata": {},
     "output_type": "execute_result"
    }
   ],
   "source": [
    "# Calculate class weights\n",
    "class_weights = compute_class_weight(\n",
    "    class_weight=\"balanced\", classes=np.unique(y_train), y=y_train\n",
    ")\n",
    "\n",
    "# Create dictionary mapping class indices to class weights\n",
    "class_weight_dict = dict(enumerate(class_weights))\n",
    "class_weight_dict"
   ]
  },
  {
   "attachments": {},
   "cell_type": "markdown",
   "metadata": {},
   "source": [
    "### Standardize the data\n",
    "\n",
    "Make it zero mean and unit variance. \n",
    "\n",
    "Standardizing the data equalizes the impact of features and improve convergence. "
   ]
  },
  {
   "cell_type": "code",
   "execution_count": 398,
   "metadata": {},
   "outputs": [],
   "source": [
    "# standardize the data\n",
    "scaler = StandardScaler()\n",
    "X_train = scaler.fit_transform(X_train)\n",
    "X_valid = scaler.transform(X_valid)\n",
    "X_test = scaler.transform(X_test)"
   ]
  },
  {
   "cell_type": "code",
   "execution_count": 196,
   "metadata": {},
   "outputs": [
    {
     "data": {
      "text/plain": [
       "((616784, 5), (127205, 5), (122506, 5))"
      ]
     },
     "execution_count": 196,
     "metadata": {},
     "output_type": "execute_result"
    }
   ],
   "source": [
    "# convert y_train and y_test to categorical (one-hot encoding)\n",
    "y_train = to_categorical(y_train, num_classes=5)\n",
    "y_valid = to_categorical(y_valid, num_classes=5)\n",
    "y_test = to_categorical(y_test, num_classes=5)\n",
    "\n",
    "y_train.shape, y_valid.shape, y_test.shape"
   ]
  },
  {
   "attachments": {},
   "cell_type": "markdown",
   "metadata": {},
   "source": [
    "### Multi-Layer Perceptron (MLP)\n",
    "\n",
    "We start with a simple neural network and later try to fine-tune the hyperparameters. \n",
    "\n",
    "We will be using the keras framework."
   ]
  },
  {
   "cell_type": "code",
   "execution_count": 402,
   "metadata": {},
   "outputs": [],
   "source": [
    "# Lets create a custom metric to calculate the macro average recall\n",
    "def macro_recall(y_true, y_pred):\n",
    "    \"\"\"A function to calculate the macro average recall metric.\n",
    "    Can be used as a metric in Keras models.\n",
    "\n",
    "    Parameters\n",
    "    ----------\n",
    "    y_true : dataframe\n",
    "        The actual labels.\n",
    "    y_pred : dataframe\n",
    "        The predicted labels.\n",
    "\n",
    "    Returns\n",
    "    -------\n",
    "    macro_recall : float\n",
    "        The macro average recall value.\n",
    "    \"\"\"\n",
    "    # Compute macro-average recall\n",
    "    true_positives = K.sum(K.round(K.clip(y_true * y_pred, 0, 1)), axis=0)\n",
    "    actual_positives = K.sum(y_true, axis=0)\n",
    "    recall = true_positives / (actual_positives + K.epsilon())\n",
    "    macro_recall = K.mean(recall)\n",
    "    return macro_recall"
   ]
  },
  {
   "attachments": {},
   "cell_type": "markdown",
   "metadata": {},
   "source": [
    "### Manual fine-tuning \n",
    "\n",
    "After manually experimenting with some values for all the hyperparameters, we settled for:\n",
    "\n",
    "- Two hidden layers, with 300 neurons each.\n",
    "- Dropout: 0.2\n",
    "- activation function: Relu\n",
    "- Optimizer: Adam with learning rate 0.001\n",
    "- batch_size = 1024\n",
    "\n",
    "Since our problem is a multi-class classification problem, we use the categorical-cross entropy as a loss function."
   ]
  },
  {
   "cell_type": "code",
   "execution_count": 309,
   "metadata": {},
   "outputs": [],
   "source": [
    "# A function to train an MLP model\n",
    "def train_model(X_train, y_train, X_val, y_val, epochs=5, batch_size=512):\n",
    "    \"\"\"A function to train an MLP model.\n",
    "\n",
    "    Parameters\n",
    "    ----------\n",
    "    X_train : dataframe\n",
    "        The training set.\n",
    "    y_train : dataframe\n",
    "        The labels of the training set.\n",
    "    X_val : dataframe\n",
    "        The validation set.\n",
    "    y_val : dataframe\n",
    "        The labels of the validation set.\n",
    "    epochs : int, optional\n",
    "        The number of epochs to train the model. The default is 5.\n",
    "    batch_size : int, optional\n",
    "        The batch size to train the model. The default is 512.\n",
    "\n",
    "    Returns\n",
    "    -------\n",
    "    model : keras model\n",
    "        The trained model.\n",
    "    history : keras history\n",
    "        The history of the training process.\n",
    "    \"\"\"\n",
    "    # create a model\n",
    "    model = Sequential()\n",
    "    model.add(Dense(300, input_shape=(X_train.shape[1],), activation=\"relu\"))\n",
    "    model.add(Dropout(0.2))\n",
    "    model.add(Dense(300, activation=\"relu\"))\n",
    "    model.add(Dropout(0.2))\n",
    "    model.add(Dense(5, activation=\"softmax\"))\n",
    "\n",
    "    optimizer = Adam(learning_rate=0.001)\n",
    "    # compile the model\n",
    "    model.compile(loss=\"categorical_crossentropy\", optimizer=optimizer)\n",
    "\n",
    "    # fit the model\n",
    "    history = model.fit(\n",
    "        X_train,\n",
    "        y_train,\n",
    "        validation_data=(X_val, y_val),\n",
    "        epochs=epochs,\n",
    "        batch_size=batch_size,\n",
    "        verbose=1,\n",
    "        class_weight=class_weight_dict,\n",
    "    )\n",
    "\n",
    "    return model, history"
   ]
  },
  {
   "attachments": {},
   "cell_type": "markdown",
   "metadata": {},
   "source": [
    "We run the training for 20 epochs "
   ]
  },
  {
   "cell_type": "code",
   "execution_count": 310,
   "metadata": {},
   "outputs": [
    {
     "name": "stdout",
     "output_type": "stream",
     "text": [
      "Epoch 1/20\n",
      "603/603 [==============================] - 6s 10ms/step - loss: 0.3108 - val_loss: 0.4191\n",
      "Epoch 2/20\n",
      "603/603 [==============================] - 8s 13ms/step - loss: 0.2182 - val_loss: 0.4013\n",
      "Epoch 3/20\n",
      "603/603 [==============================] - 8s 14ms/step - loss: 0.1880 - val_loss: 0.3490\n",
      "Epoch 4/20\n",
      "603/603 [==============================] - 9s 15ms/step - loss: 0.1679 - val_loss: 0.3018\n",
      "Epoch 5/20\n",
      "603/603 [==============================] - 8s 13ms/step - loss: 0.1517 - val_loss: 0.3135\n",
      "Epoch 6/20\n",
      "603/603 [==============================] - 7s 11ms/step - loss: 0.1386 - val_loss: 0.2956\n",
      "Epoch 7/20\n",
      "603/603 [==============================] - 5s 8ms/step - loss: 0.1254 - val_loss: 0.2757\n",
      "Epoch 8/20\n",
      "603/603 [==============================] - 7s 12ms/step - loss: 0.1174 - val_loss: 0.2440\n",
      "Epoch 9/20\n",
      "603/603 [==============================] - 8s 13ms/step - loss: 0.1081 - val_loss: 0.3335\n",
      "Epoch 10/20\n",
      "603/603 [==============================] - 6s 10ms/step - loss: 0.1051 - val_loss: 0.2737\n",
      "Epoch 11/20\n",
      "603/603 [==============================] - 6s 10ms/step - loss: 0.0954 - val_loss: 0.2697\n",
      "Epoch 12/20\n",
      "603/603 [==============================] - 7s 12ms/step - loss: 0.0892 - val_loss: 0.2501\n",
      "Epoch 13/20\n",
      "603/603 [==============================] - 8s 13ms/step - loss: 0.0851 - val_loss: 0.1876\n",
      "Epoch 14/20\n",
      "603/603 [==============================] - 10s 16ms/step - loss: 0.0819 - val_loss: 0.2085\n",
      "Epoch 15/20\n",
      "603/603 [==============================] - 9s 16ms/step - loss: 0.0792 - val_loss: 0.2228\n",
      "Epoch 16/20\n",
      "603/603 [==============================] - 8s 14ms/step - loss: 0.0740 - val_loss: 0.2408\n",
      "Epoch 17/20\n",
      "603/603 [==============================] - 8s 13ms/step - loss: 0.0730 - val_loss: 0.2304\n",
      "Epoch 18/20\n",
      "603/603 [==============================] - 9s 16ms/step - loss: 0.0668 - val_loss: 0.1997\n",
      "Epoch 19/20\n",
      "603/603 [==============================] - 8s 14ms/step - loss: 0.0672 - val_loss: 0.2100\n",
      "Epoch 20/20\n",
      "603/603 [==============================] - 8s 13ms/step - loss: 0.0641 - val_loss: 0.2087\n"
     ]
    }
   ],
   "source": [
    "model, history = train_model(\n",
    "    X_train, y_train, X_valid, y_valid, epochs=20, batch_size=1024\n",
    ")"
   ]
  },
  {
   "cell_type": "code",
   "execution_count": 276,
   "metadata": {},
   "outputs": [
    {
     "name": "stdout",
     "output_type": "stream",
     "text": [
      "Model: \"sequential_169\"\n",
      "_________________________________________________________________\n",
      " Layer (type)                Output Shape              Param #   \n",
      "=================================================================\n",
      " dense_599 (Dense)           (None, 256)               7936      \n",
      "                                                                 \n",
      " dropout_280 (Dropout)       (None, 256)               0         \n",
      "                                                                 \n",
      " dense_600 (Dense)           (None, 256)               65792     \n",
      "                                                                 \n",
      " dropout_281 (Dropout)       (None, 256)               0         \n",
      "                                                                 \n",
      " dense_601 (Dense)           (None, 5)                 1285      \n",
      "                                                                 \n",
      "=================================================================\n",
      "Total params: 75,013\n",
      "Trainable params: 75,013\n",
      "Non-trainable params: 0\n",
      "_________________________________________________________________\n"
     ]
    }
   ],
   "source": [
    "model.summary()"
   ]
  },
  {
   "attachments": {},
   "cell_type": "markdown",
   "metadata": {},
   "source": [
    "### Loss curve"
   ]
  },
  {
   "cell_type": "code",
   "execution_count": 311,
   "metadata": {},
   "outputs": [],
   "source": [
    "# plot the training loss and validation loss\n",
    "def plot_history(history):\n",
    "    plt.figure(figsize=(10, 6))\n",
    "    plt.plot(history.history[\"loss\"], label=\"Training loss\")\n",
    "    plt.plot(history.history[\"val_loss\"], label=\"Validation loss\")\n",
    "    plt.xlabel(\"Epochs\")\n",
    "    plt.ylabel(\"Loss\")\n",
    "    plt.legend()\n",
    "\n",
    "    plt.show()"
   ]
  },
  {
   "cell_type": "code",
   "execution_count": 312,
   "metadata": {},
   "outputs": [
    {
     "data": {
      "image/png": "[encoded data removed]",
      "text/plain": [
       "<Figure size 1000x600 with 1 Axes>"
      ]
     },
     "metadata": {},
     "output_type": "display_data"
    }
   ],
   "source": [
    "plot_history(history)"
   ]
  },
  {
   "attachments": {},
   "cell_type": "markdown",
   "metadata": {},
   "source": [
    "The training loss decreased in a smooth way and the validation loss didn't improve after the 11th epoch"
   ]
  },
  {
   "attachments": {},
   "cell_type": "markdown",
   "metadata": {},
   "source": [
    "### Helper functions for model evaluation"
   ]
  },
  {
   "cell_type": "code",
   "execution_count": 403,
   "metadata": {},
   "outputs": [],
   "source": [
    "labels = [\"Normal\", \"comp1\", \"comp2\", \"comp3\", \"comp4\"]\n",
    "\n",
    "\n",
    "def evaluate_model(model, X, y):\n",
    "    \"\"\"A function to evaluate a model.\n",
    "\n",
    "    Parameters\n",
    "    ----------\n",
    "    model : keras model\n",
    "        The trained model.\n",
    "    X : dataframe\n",
    "        The features.\n",
    "    y : dataframe\n",
    "\n",
    "    Returns\n",
    "    -------\n",
    "    cm : array\n",
    "        The confusion matrix.\n",
    "    report : dataframe\n",
    "        The classification report.\n",
    "    \"\"\"\n",
    "\n",
    "    print(X.shape, y.shape)\n",
    "    y_pred = model.predict(X)\n",
    "    y_pred = np.argmax(y_pred, axis=1)\n",
    "    y_true = np.argmax(y, axis=1)\n",
    "    report = classification_report(y_true, y_pred, output_dict=True)\n",
    "\n",
    "    # convert report to dataframe\n",
    "    report = pd.DataFrame(report).transpose()\n",
    "\n",
    "    print(\"classification report\")\n",
    "    print(report)\n",
    "    print(\"confusion matrix\")\n",
    "    cm = confusion_matrix(y_true, y_pred)\n",
    "    df_cm = pd.DataFrame(cm, index=labels, columns=labels)\n",
    "    print(df_cm)\n",
    "\n",
    "    return cm, report\n",
    "\n",
    "\n",
    "# Since our primary metric is macro average recall, lets crate a function to calculate it\n",
    "def get_recall_scores(clf_report):\n",
    "    \"\"\"A function to calculate the recall scores from a classification report.\n",
    "\n",
    "    Parameters\n",
    "    ----------\n",
    "    clf_report : dataframe\n",
    "        The classification report.\n",
    "\n",
    "    Returns\n",
    "    -------\n",
    "    recall_df : dataframe\n",
    "        The recall scores.\n",
    "    \"\"\"\n",
    "\n",
    "    # round to two decimal places in dataframe\n",
    "    report_test = clf_report.round(2)\n",
    "    # drop accuracy\n",
    "    report_test = report_test.drop([\"accuracy\"], axis=0)\n",
    "    # drop f1-score and support\n",
    "    report_test = report_test.drop([\"f1-score\", \"support\"], axis=1)\n",
    "    # rename index to 'Normal', 'comp1', 'comp2', 'comp3', 'comp4'\n",
    "    report_test.index = [\n",
    "        \"Normal\",\n",
    "        \"comp1\",\n",
    "        \"comp2\",\n",
    "        \"comp3\",\n",
    "        \"comp4\",\n",
    "        \"macro avg\",\n",
    "        \"weighted avg\",\n",
    "    ]\n",
    "\n",
    "    # get only recall column as a dataframe\n",
    "    recall_df = report_test.loc[:, [\"recall\"]]\n",
    "    return recall_df"
   ]
  },
  {
   "attachments": {},
   "cell_type": "markdown",
   "metadata": {},
   "source": [
    "#### Performance on the validation set"
   ]
  },
  {
   "cell_type": "code",
   "execution_count": 337,
   "metadata": {},
   "outputs": [
    {
     "name": "stdout",
     "output_type": "stream",
     "text": [
      "(127205, 30) (127205, 5)\n",
      "3976/3976 [==============================] - 4s 908us/step\n",
      "classification report\n",
      "              precision    recall  f1-score        support\n",
      "0              0.994015  0.938542  0.965483  122816.000000\n",
      "1              0.192816  0.761635  0.307728     881.000000\n",
      "2              0.338131  0.809579  0.477026    1712.000000\n",
      "3              0.413174  0.905512  0.567434     762.000000\n",
      "4              0.434303  0.837524  0.571995    1034.000000\n",
      "accuracy       0.934562  0.934562  0.934562       0.934562\n",
      "macro avg      0.474488  0.850558  0.577933  127205.000000\n",
      "weighted avg   0.971610  0.934562  0.948770  127205.000000\n",
      "confusion matrix\n",
      "        Normal  comp1  comp2  comp3  comp4\n",
      "Normal  115268   2788   2689    951   1120\n",
      "comp1      198    671     11      0      1\n",
      "comp2      286     12   1386     25      3\n",
      "comp3       60      2      6    690      4\n",
      "comp4      150      7      7      4    866\n"
     ]
    },
    {
     "data": {
      "text/html": [
       "<div>\n",
       "<style scoped>\n",
       "    .dataframe tbody tr th:only-of-type {\n",
       "        vertical-align: middle;\n",
       "    }\n",
       "\n",
       "    .dataframe tbody tr th {\n",
       "        vertical-align: top;\n",
       "    }\n",
       "\n",
       "    .dataframe thead th {\n",
       "        text-align: right;\n",
       "    }\n",
       "</style>\n",
       "<table border=\"1\" class=\"dataframe\">\n",
       "  <thead>\n",
       "    <tr style=\"text-align: right;\">\n",
       "      <th></th>\n",
       "      <th>recall</th>\n",
       "    </tr>\n",
       "  </thead>\n",
       "  <tbody>\n",
       "    <tr>\n",
       "      <th>Normal</th>\n",
       "      <td>0.94</td>\n",
       "    </tr>\n",
       "    <tr>\n",
       "      <th>comp1</th>\n",
       "      <td>0.76</td>\n",
       "    </tr>\n",
       "    <tr>\n",
       "      <th>comp2</th>\n",
       "      <td>0.81</td>\n",
       "    </tr>\n",
       "    <tr>\n",
       "      <th>comp3</th>\n",
       "      <td>0.91</td>\n",
       "    </tr>\n",
       "    <tr>\n",
       "      <th>comp4</th>\n",
       "      <td>0.84</td>\n",
       "    </tr>\n",
       "    <tr>\n",
       "      <th>macro avg</th>\n",
       "      <td>0.85</td>\n",
       "    </tr>\n",
       "    <tr>\n",
       "      <th>weighted avg</th>\n",
       "      <td>0.93</td>\n",
       "    </tr>\n",
       "  </tbody>\n",
       "</table>\n",
       "</div>"
      ],
      "text/plain": [
       "              recall\n",
       "Normal          0.94\n",
       "comp1           0.76\n",
       "comp2           0.81\n",
       "comp3           0.91\n",
       "comp4           0.84\n",
       "macro avg       0.85\n",
       "weighted avg    0.93"
      ]
     },
     "execution_count": 337,
     "metadata": {},
     "output_type": "execute_result"
    }
   ],
   "source": [
    "cm_valid, report_valid = evaluate_model(model, X_valid, y_valid)\n",
    "recall_no_hpo_valid = get_recall_scores(report_valid)\n",
    "recall_no_hpo_valid"
   ]
  },
  {
   "attachments": {},
   "cell_type": "markdown",
   "metadata": {},
   "source": [
    "macro average recall of 0.85 - not bad! \n",
    "\n",
    "component 1 had the smallest recall. "
   ]
  },
  {
   "attachments": {},
   "cell_type": "markdown",
   "metadata": {},
   "source": [
    "#### Performance on the test set"
   ]
  },
  {
   "cell_type": "code",
   "execution_count": 349,
   "metadata": {},
   "outputs": [
    {
     "name": "stdout",
     "output_type": "stream",
     "text": [
      "(122506, 30) (122506, 5)\n",
      "3829/3829 [==============================] - 5s 1ms/step\n",
      "classification report\n",
      "              precision    recall  f1-score        support\n",
      "0              0.994866  0.937133  0.965137  117867.000000\n",
      "1              0.237297  0.783318  0.364250    1103.000000\n",
      "2              0.350930  0.830947  0.493460    1816.000000\n",
      "3              0.440832  0.919946  0.596044     737.000000\n",
      "4              0.429000  0.872838  0.575260     983.000000\n",
      "accuracy       0.933554  0.933554  0.933554       0.933554\n",
      "macro avg      0.490585  0.868836  0.598830  122506.000000\n",
      "weighted avg   0.970626  0.933554  0.947386  122506.000000\n",
      "confusion matrix\n",
      "        Normal  comp1  comp2  comp3  comp4\n",
      "Normal  110457   2759   2696    846   1109\n",
      "comp1      174    864     38      1     26\n",
      "comp2      282      5   1509     13      7\n",
      "comp3       35     11     13    678      0\n",
      "comp4       79      2     44      0    858\n"
     ]
    },
    {
     "data": {
      "text/html": [
       "<div>\n",
       "<style scoped>\n",
       "    .dataframe tbody tr th:only-of-type {\n",
       "        vertical-align: middle;\n",
       "    }\n",
       "\n",
       "    .dataframe tbody tr th {\n",
       "        vertical-align: top;\n",
       "    }\n",
       "\n",
       "    .dataframe thead th {\n",
       "        text-align: right;\n",
       "    }\n",
       "</style>\n",
       "<table border=\"1\" class=\"dataframe\">\n",
       "  <thead>\n",
       "    <tr style=\"text-align: right;\">\n",
       "      <th></th>\n",
       "      <th>recall</th>\n",
       "    </tr>\n",
       "  </thead>\n",
       "  <tbody>\n",
       "    <tr>\n",
       "      <th>Normal</th>\n",
       "      <td>0.94</td>\n",
       "    </tr>\n",
       "    <tr>\n",
       "      <th>comp1</th>\n",
       "      <td>0.78</td>\n",
       "    </tr>\n",
       "    <tr>\n",
       "      <th>comp2</th>\n",
       "      <td>0.83</td>\n",
       "    </tr>\n",
       "    <tr>\n",
       "      <th>comp3</th>\n",
       "      <td>0.92</td>\n",
       "    </tr>\n",
       "    <tr>\n",
       "      <th>comp4</th>\n",
       "      <td>0.87</td>\n",
       "    </tr>\n",
       "    <tr>\n",
       "      <th>macro avg</th>\n",
       "      <td>0.87</td>\n",
       "    </tr>\n",
       "    <tr>\n",
       "      <th>weighted avg</th>\n",
       "      <td>0.93</td>\n",
       "    </tr>\n",
       "  </tbody>\n",
       "</table>\n",
       "</div>"
      ],
      "text/plain": [
       "              recall\n",
       "Normal          0.94\n",
       "comp1           0.78\n",
       "comp2           0.83\n",
       "comp3           0.92\n",
       "comp4           0.87\n",
       "macro avg       0.87\n",
       "weighted avg    0.93"
      ]
     },
     "execution_count": 349,
     "metadata": {},
     "output_type": "execute_result"
    }
   ],
   "source": [
    "cm_test, report_test = evaluate_model(model, X_test, y_test)\n",
    "recall_test_no_hpo = get_recall_scores(report_test)\n",
    "recall_test_no_hpo"
   ]
  },
  {
   "attachments": {},
   "cell_type": "markdown",
   "metadata": {},
   "source": [
    "The overall macro average recall is very good! "
   ]
  },
  {
   "cell_type": "code",
   "execution_count": 323,
   "metadata": {},
   "outputs": [
    {
     "data": {
      "image/png": "[encoded data removed]",
      "text/plain": [
       "<Figure size 1000x500 with 1 Axes>"
      ]
     },
     "metadata": {},
     "output_type": "display_data"
    }
   ],
   "source": [
    "# Plot the recall scores for each class\n",
    "recall_test_no_hpo.plot(kind=\"bar\", figsize=(10, 5))\n",
    "plt.ylim(0.7, 1.0)\n",
    "plt.title(\"Recall for each class\")\n",
    "plt.ylabel(\"Score\")\n",
    "plt.show()"
   ]
  },
  {
   "cell_type": "code",
   "execution_count": 317,
   "metadata": {},
   "outputs": [
    {
     "data": {
      "text/html": [
       "<div>\n",
       "<style scoped>\n",
       "    .dataframe tbody tr th:only-of-type {\n",
       "        vertical-align: middle;\n",
       "    }\n",
       "\n",
       "    .dataframe tbody tr th {\n",
       "        vertical-align: top;\n",
       "    }\n",
       "\n",
       "    .dataframe thead th {\n",
       "        text-align: right;\n",
       "    }\n",
       "</style>\n",
       "<table border=\"1\" class=\"dataframe\">\n",
       "  <thead>\n",
       "    <tr style=\"text-align: right;\">\n",
       "      <th></th>\n",
       "      <th>Normal</th>\n",
       "      <th>comp1</th>\n",
       "      <th>comp2</th>\n",
       "      <th>comp3</th>\n",
       "      <th>comp4</th>\n",
       "    </tr>\n",
       "  </thead>\n",
       "  <tbody>\n",
       "    <tr>\n",
       "      <th>Normal</th>\n",
       "      <td>110457</td>\n",
       "      <td>2759</td>\n",
       "      <td>2696</td>\n",
       "      <td>846</td>\n",
       "      <td>1109</td>\n",
       "    </tr>\n",
       "    <tr>\n",
       "      <th>comp1</th>\n",
       "      <td>174</td>\n",
       "      <td>864</td>\n",
       "      <td>38</td>\n",
       "      <td>1</td>\n",
       "      <td>26</td>\n",
       "    </tr>\n",
       "    <tr>\n",
       "      <th>comp2</th>\n",
       "      <td>282</td>\n",
       "      <td>5</td>\n",
       "      <td>1509</td>\n",
       "      <td>13</td>\n",
       "      <td>7</td>\n",
       "    </tr>\n",
       "    <tr>\n",
       "      <th>comp3</th>\n",
       "      <td>35</td>\n",
       "      <td>11</td>\n",
       "      <td>13</td>\n",
       "      <td>678</td>\n",
       "      <td>0</td>\n",
       "    </tr>\n",
       "    <tr>\n",
       "      <th>comp4</th>\n",
       "      <td>79</td>\n",
       "      <td>2</td>\n",
       "      <td>44</td>\n",
       "      <td>0</td>\n",
       "      <td>858</td>\n",
       "    </tr>\n",
       "  </tbody>\n",
       "</table>\n",
       "</div>"
      ],
      "text/plain": [
       "        Normal  comp1  comp2  comp3  comp4\n",
       "Normal  110457   2759   2696    846   1109\n",
       "comp1      174    864     38      1     26\n",
       "comp2      282      5   1509     13      7\n",
       "comp3       35     11     13    678      0\n",
       "comp4       79      2     44      0    858"
      ]
     },
     "execution_count": 317,
     "metadata": {},
     "output_type": "execute_result"
    }
   ],
   "source": [
    "# The confusion matrix for test set as a dataframe\n",
    "cm_test_df_no_hpo = pd.DataFrame(cm_test, index=labels, columns=labels)\n",
    "cm_test_df_no_hpo"
   ]
  },
  {
   "cell_type": "code",
   "execution_count": 320,
   "metadata": {},
   "outputs": [
    {
     "data": {
      "text/html": [
       "<div>\n",
       "<style scoped>\n",
       "    .dataframe tbody tr th:only-of-type {\n",
       "        vertical-align: middle;\n",
       "    }\n",
       "\n",
       "    .dataframe tbody tr th {\n",
       "        vertical-align: top;\n",
       "    }\n",
       "\n",
       "    .dataframe thead th {\n",
       "        text-align: right;\n",
       "    }\n",
       "</style>\n",
       "<table border=\"1\" class=\"dataframe\">\n",
       "  <thead>\n",
       "    <tr style=\"text-align: right;\">\n",
       "      <th></th>\n",
       "      <th>Normal</th>\n",
       "      <th>comp1</th>\n",
       "      <th>comp2</th>\n",
       "      <th>comp3</th>\n",
       "      <th>comp4</th>\n",
       "    </tr>\n",
       "  </thead>\n",
       "  <tbody>\n",
       "    <tr>\n",
       "      <th>Normal</th>\n",
       "      <td>115268</td>\n",
       "      <td>2788</td>\n",
       "      <td>2689</td>\n",
       "      <td>951</td>\n",
       "      <td>1120</td>\n",
       "    </tr>\n",
       "    <tr>\n",
       "      <th>comp1</th>\n",
       "      <td>198</td>\n",
       "      <td>671</td>\n",
       "      <td>11</td>\n",
       "      <td>0</td>\n",
       "      <td>1</td>\n",
       "    </tr>\n",
       "    <tr>\n",
       "      <th>comp2</th>\n",
       "      <td>286</td>\n",
       "      <td>12</td>\n",
       "      <td>1386</td>\n",
       "      <td>25</td>\n",
       "      <td>3</td>\n",
       "    </tr>\n",
       "    <tr>\n",
       "      <th>comp3</th>\n",
       "      <td>60</td>\n",
       "      <td>2</td>\n",
       "      <td>6</td>\n",
       "      <td>690</td>\n",
       "      <td>4</td>\n",
       "    </tr>\n",
       "    <tr>\n",
       "      <th>comp4</th>\n",
       "      <td>150</td>\n",
       "      <td>7</td>\n",
       "      <td>7</td>\n",
       "      <td>4</td>\n",
       "      <td>866</td>\n",
       "    </tr>\n",
       "  </tbody>\n",
       "</table>\n",
       "</div>"
      ],
      "text/plain": [
       "        Normal  comp1  comp2  comp3  comp4\n",
       "Normal  115268   2788   2689    951   1120\n",
       "comp1      198    671     11      0      1\n",
       "comp2      286     12   1386     25      3\n",
       "comp3       60      2      6    690      4\n",
       "comp4      150      7      7      4    866"
      ]
     },
     "execution_count": 320,
     "metadata": {},
     "output_type": "execute_result"
    }
   ],
   "source": [
    "# create a table of the confusion matrix for the validation set\n",
    "cm_valid_df_no_hpo = pd.DataFrame(cm_valid, index=labels, columns=labels)\n",
    "cm_valid_df_no_hpo"
   ]
  },
  {
   "attachments": {},
   "cell_type": "markdown",
   "metadata": {},
   "source": [
    "### MLP hyperparameter optimization with Optuna\n",
    "\n",
    "Lets try to perform hyperparameter optimization. We will use a very cool optimization framework called Optuna. \n",
    "\n",
    "Optuna offeres diffrent sampling technicques, we use the Bayesian based TPE (Tree-structured Parzen Estimator) algorithm. TPESampler. For more information about the sampler see https://optuna.readthedocs.io/en/stable/reference/samplers/generated/optuna.samplers.TPESampler.html\n",
    "\n",
    "We will optimize:\n",
    "\n",
    "- number of layers\n",
    "- number of units\n",
    "- learning rate \n",
    "- activation function (ReLu, LeakyReLu)\n",
    "\n",
    "To speed up training, we use early stopping and optunas pruning callback. When the trials are not promising, it will skip them."
   ]
  },
  {
   "cell_type": "code",
   "execution_count": 261,
   "metadata": {},
   "outputs": [],
   "source": [
    "# create a directory called models to save the best model if it doesn't exist already\n",
    "if not os.path.exists(\"models\"):\n",
    "    os.makedirs(\"models\")\n",
    "\n",
    "\n",
    "def train_model_optuna(\n",
    "    X_train, y_train, X_val, y_val, n_trials=2, epochs=5, batch_size=512\n",
    "):\n",
    "    \"\"\"A function to train a model using Optuna.\n",
    "\n",
    "    Parameters\n",
    "    ----------\n",
    "    X_train : dataframe\n",
    "        The training features.\n",
    "    y_train : dataframe\n",
    "        The training labels.\n",
    "    X_val : dataframe\n",
    "        The validation features.\n",
    "    y_val : dataframe\n",
    "        The validation labels.\n",
    "    n_trials : int\n",
    "        The number of trials for Optuna to run.\n",
    "    epochs : int\n",
    "        The number of epochs to train the model.\n",
    "    batch_size : int\n",
    "        The batch size.\n",
    "\n",
    "    Returns\n",
    "    -------\n",
    "    model : keras model\n",
    "        The trained model.\n",
    "    history : dataframe\n",
    "        The training history.\n",
    "    \"\"\"\n",
    "\n",
    "    def objective(trial):\n",
    "        # Define the hyperparameters to optimize\n",
    "        num_hidden_layers = trial.suggest_int(\"num_hidden_layers\", 2, 5)\n",
    "        dropout_rate = trial.suggest_float(\"dropout_rate\", 0.0, 0.5, step=0.1)\n",
    "        learning_rate = trial.suggest_float(\"learning_rate\", 1e-4, 1e-1, log=True)\n",
    "        # activation = trial.suggest_categorical(\"activation\", [\"relu\", \"LeakyReLU\"])\n",
    "\n",
    "        # Create the model\n",
    "        model = Sequential()\n",
    "        model.add(\n",
    "            Dense(\n",
    "                trial.suggest_int(\"num_units_0\", 64, 512),\n",
    "                input_shape=(X_train.shape[1],),\n",
    "                activation=\"relu\",\n",
    "            )\n",
    "        )\n",
    "\n",
    "        # Add hidden layers\n",
    "        for i in range(1, num_hidden_layers):\n",
    "            model.add(\n",
    "                Dense(trial.suggest_int(f\"num_units_{i}\", 64, 512), activation=\"relu\")\n",
    "            )\n",
    "            model.add(Dropout(dropout_rate))\n",
    "\n",
    "        # Add output layer\n",
    "        model.add(Dense(y_train.shape[1], activation=\"softmax\"))\n",
    "\n",
    "        # Compile the model\n",
    "        model.compile(\n",
    "            loss=\"categorical_crossentropy\", optimizer=Adam(learning_rate=learning_rate)\n",
    "        )\n",
    "\n",
    "        # Define pruning and early stopping callbacks\n",
    "        pruning_callback = TFKerasPruningCallback(trial, \"val_loss\")\n",
    "        es = tf.keras.callbacks.EarlyStopping(monitor=\"val_loss\", patience=5)\n",
    "\n",
    "        # Fit the model\n",
    "        history = model.fit(\n",
    "            X_train,\n",
    "            y_train,\n",
    "            validation_data=(X_val, y_val),\n",
    "            epochs=epochs,\n",
    "            batch_size=batch_size,\n",
    "            class_weight=class_weight_dict,\n",
    "            verbose=1,\n",
    "            callbacks=[pruning_callback, es],\n",
    "        )\n",
    "\n",
    "        # Calculate the macro recall on the validation set after training\n",
    "        score = macro_recall(y_val, model.predict(X_val))\n",
    "\n",
    "        # Add the model weights to the user_attrs dictionary of the trial.\n",
    "        # We use this to retrieve the best model at the end.\n",
    "        trial.set_user_attr(\"model_weights\", model.get_weights())\n",
    "\n",
    "        # Return the validation accuracy as the objective\n",
    "        return score\n",
    "\n",
    "    # Create an Optuna study\n",
    "    study = optuna.create_study(\n",
    "        direction=\"maximize\", sampler=optuna.samplers.TPESampler(seed=123)\n",
    "    )\n",
    "\n",
    "    # Optimize the objective function\n",
    "    study.optimize(objective, n_trials=n_trials)\n",
    "\n",
    "    # Print the best hyperparameters and validation accuracy\n",
    "    print(\n",
    "        f\"Best trial: {study.best_trial.params}, Validation accuracy: {study.best_trial.value:.4f}\"\n",
    "    )\n",
    "\n",
    "    # Save the best model to a file, 'best_model.h5' in the models directory\n",
    "    # We need it later\n",
    "    best_model = Sequential()\n",
    "    best_model.add(\n",
    "        Dense(\n",
    "            study.best_trial.params[\"num_units_0\"],\n",
    "            input_shape=(X_train.shape[1],),\n",
    "            activation=\"relu\",\n",
    "        )\n",
    "    )\n",
    "\n",
    "    for i in range(1, study.best_trial.params[\"num_hidden_layers\"]):\n",
    "        best_model.add(\n",
    "            Dense(study.best_trial.params[f\"num_units_{i}\"], activation=\"relu\")\n",
    "        )\n",
    "        best_model.add(Dropout(study.best_trial.params[\"dropout_rate\"]))\n",
    "\n",
    "    best_model.add(Dense(y_train.shape[1], activation=\"softmax\"))\n",
    "    best_model.compile(\n",
    "        loss=\"categorical_crossentropy\",\n",
    "        optimizer=Adam(learning_rate=study.best_trial.params[\"learning_rate\"]),\n",
    "    )\n",
    "    best_model.set_weights(study.best_trial.user_attrs[\"model_weights\"])\n",
    "    best_model.save(\"./models/best_model.h5\")\n",
    "\n",
    "    return study.best_trial.params, study"
   ]
  },
  {
   "attachments": {},
   "cell_type": "markdown",
   "metadata": {},
   "source": [
    "#### Run the experiment\n",
    "\n",
    "- 25 trials and 15 epochs"
   ]
  },
  {
   "cell_type": "code",
   "execution_count": 283,
   "metadata": {},
   "outputs": [
    {
     "name": "stderr",
     "output_type": "stream",
     "text": [
      "\u001b[32m[I 2023-05-29 14:20:41,866]\u001b[0m A new study created in memory with name: no-name-507cb0ed-ff9c-4e99-bcc4-71461b2627bd\u001b[0m\n"
     ]
    },
    {
     "name": "stdout",
     "output_type": "stream",
     "text": [
      "Epoch 1/15\n",
      "603/603 [==============================] - 19s 30ms/step - loss: 0.3032 - val_loss: 0.3499\n",
      "Epoch 2/15\n",
      "603/603 [==============================] - 22s 36ms/step - loss: 0.1910 - val_loss: 0.3742\n",
      "Epoch 3/15\n",
      "603/603 [==============================] - 20s 34ms/step - loss: 0.1516 - val_loss: 0.3074\n",
      "Epoch 4/15\n",
      "603/603 [==============================] - 22s 36ms/step - loss: 0.1264 - val_loss: 0.4182\n",
      "Epoch 5/15\n",
      "603/603 [==============================] - 21s 35ms/step - loss: 0.1043 - val_loss: 0.2707\n",
      "Epoch 6/15\n",
      "603/603 [==============================] - 21s 35ms/step - loss: 0.0896 - val_loss: 0.2518\n",
      "Epoch 7/15\n",
      "603/603 [==============================] - 23s 38ms/step - loss: 0.0741 - val_loss: 0.2211\n",
      "Epoch 8/15\n",
      "603/603 [==============================] - 22s 36ms/step - loss: 0.0657 - val_loss: 0.2903\n",
      "Epoch 9/15\n",
      "603/603 [==============================] - 19s 31ms/step - loss: 0.0588 - val_loss: 0.2582\n",
      "Epoch 10/15\n",
      "603/603 [==============================] - 21s 34ms/step - loss: 0.0538 - val_loss: 0.2112\n",
      "Epoch 11/15\n",
      "603/603 [==============================] - 20s 33ms/step - loss: 0.0487 - val_loss: 0.2753\n",
      "Epoch 12/15\n",
      "603/603 [==============================] - 22s 36ms/step - loss: 0.0436 - val_loss: 0.2011\n",
      "Epoch 13/15\n",
      "603/603 [==============================] - 21s 35ms/step - loss: 0.0404 - val_loss: 0.2336\n",
      "Epoch 14/15\n",
      "603/603 [==============================] - 24s 40ms/step - loss: 0.0403 - val_loss: 0.1960\n",
      "Epoch 15/15\n",
      "603/603 [==============================] - 23s 38ms/step - loss: 0.0373 - val_loss: 0.2153\n",
      "3976/3976 [==============================] - 5s 1ms/step\n"
     ]
    },
    {
     "name": "stderr",
     "output_type": "stream",
     "text": [
      "\u001b[32m[I 2023-05-29 14:26:06,267]\u001b[0m Trial 0 finished with value: 0.8103610873222351 and parameters: {'num_hidden_layers': 4, 'dropout_rate': 0.1, 'learning_rate': 0.0004792414358623592, 'num_units_0': 311, 'num_units_1': 387, 'num_units_2': 253, 'num_units_3': 504}. Best is trial 0 with value: 0.8103610873222351.\u001b[0m\n"
     ]
    },
    {
     "name": "stdout",
     "output_type": "stream",
     "text": [
      "Epoch 1/15\n",
      "603/603 [==============================] - 16s 25ms/step - loss: 0.3119 - val_loss: 0.3887\n",
      "Epoch 2/15\n",
      "603/603 [==============================] - 15s 25ms/step - loss: 0.2089 - val_loss: 0.4493\n",
      "Epoch 3/15\n",
      "603/603 [==============================] - 17s 28ms/step - loss: 0.1691 - val_loss: 0.2833\n",
      "Epoch 4/15\n",
      "603/603 [==============================] - 17s 28ms/step - loss: 0.1433 - val_loss: 0.2380\n",
      "Epoch 5/15\n",
      "603/603 [==============================] - 16s 27ms/step - loss: 0.1285 - val_loss: 0.2865\n",
      "Epoch 6/15\n",
      "603/603 [==============================] - 14s 24ms/step - loss: 0.1116 - val_loss: 0.3235\n",
      "Epoch 7/15\n",
      "603/603 [==============================] - 13s 22ms/step - loss: 0.1027 - val_loss: 0.2564\n",
      "Epoch 8/15\n",
      "603/603 [==============================] - 18s 29ms/step - loss: 0.0892 - val_loss: 0.3037\n",
      "Epoch 9/15\n",
      "603/603 [==============================] - 18s 30ms/step - loss: 0.0835 - val_loss: 0.2515\n",
      "3976/3976 [==============================] - 4s 939us/step\n"
     ]
    },
    {
     "name": "stderr",
     "output_type": "stream",
     "text": [
      "\u001b[32m[I 2023-05-29 14:28:35,715]\u001b[0m Trial 1 finished with value: 0.8553004264831543 and parameters: {'num_hidden_layers': 4, 'dropout_rate': 0.2, 'learning_rate': 0.0015009027543233906, 'num_units_0': 218, 'num_units_1': 391, 'num_units_2': 260, 'num_units_3': 90}. Best is trial 1 with value: 0.8553004264831543.\u001b[0m\n"
     ]
    },
    {
     "name": "stdout",
     "output_type": "stream",
     "text": [
      "Epoch 1/15\n",
      "603/603 [==============================] - 7s 12ms/step - loss: 0.4124 - val_loss: 0.4720\n",
      "Epoch 2/15\n",
      "603/603 [==============================] - 7s 12ms/step - loss: 0.2671 - val_loss: 0.3941\n",
      "Epoch 3/15\n",
      "603/603 [==============================] - 7s 12ms/step - loss: 0.2347 - val_loss: 0.3718\n",
      "Epoch 4/15\n",
      "603/603 [==============================] - 7s 11ms/step - loss: 0.2103 - val_loss: 0.3721\n",
      "Epoch 5/15\n",
      "603/603 [==============================] - 7s 12ms/step - loss: 0.1950 - val_loss: 0.3443\n",
      "Epoch 6/15\n",
      "603/603 [==============================] - 5s 9ms/step - loss: 0.1822 - val_loss: 0.3234\n",
      "Epoch 7/15\n",
      "603/603 [==============================] - 5s 8ms/step - loss: 0.1708 - val_loss: 0.3280\n",
      "Epoch 8/15\n",
      "603/603 [==============================] - 7s 12ms/step - loss: 0.1621 - val_loss: 0.3482\n",
      "Epoch 9/15\n",
      "603/603 [==============================] - 7s 12ms/step - loss: 0.1526 - val_loss: 0.2995\n",
      "Epoch 10/15\n",
      "603/603 [==============================] - 6s 10ms/step - loss: 0.1468 - val_loss: 0.3341\n",
      "Epoch 11/15\n",
      "603/603 [==============================] - 7s 11ms/step - loss: 0.1396 - val_loss: 0.2826\n",
      "Epoch 12/15\n",
      "603/603 [==============================] - 7s 12ms/step - loss: 0.1336 - val_loss: 0.2976\n",
      "Epoch 13/15\n",
      "603/603 [==============================] - 7s 12ms/step - loss: 0.1274 - val_loss: 0.3073\n",
      "Epoch 14/15\n",
      "603/603 [==============================] - 7s 11ms/step - loss: 0.1225 - val_loss: 0.2844\n",
      "Epoch 15/15\n",
      "603/603 [==============================] - 7s 11ms/step - loss: 0.1176 - val_loss: 0.2906\n",
      "3976/3976 [==============================] - 4s 877us/step\n"
     ]
    },
    {
     "name": "stderr",
     "output_type": "stream",
     "text": [
      "\u001b[32m[I 2023-05-29 14:30:22,256]\u001b[0m Trial 2 finished with value: 0.889194667339325 and parameters: {'num_hidden_layers': 2, 'dropout_rate': 0.4, 'learning_rate': 0.0003527566351720554, 'num_units_0': 142, 'num_units_1': 302}. Best is trial 2 with value: 0.889194667339325.\u001b[0m\n"
     ]
    },
    {
     "name": "stdout",
     "output_type": "stream",
     "text": [
      "Epoch 1/15\n",
      "603/603 [==============================] - 18s 29ms/step - loss: 0.9999 - val_loss: 1.2238\n",
      "Epoch 2/15\n",
      "603/603 [==============================] - 21s 34ms/step - loss: 1.0052 - val_loss: 1.3019\n",
      "Epoch 3/15\n",
      "603/603 [==============================] - 20s 34ms/step - loss: 1.2626 - val_loss: 1.4253\n",
      "Epoch 4/15\n",
      "603/603 [==============================] - 20s 34ms/step - loss: 1.3703 - val_loss: 1.5257\n",
      "Epoch 5/15\n",
      "603/603 [==============================] - 19s 32ms/step - loss: 1.4053 - val_loss: 1.6171\n",
      "Epoch 6/15\n",
      "603/603 [==============================] - 19s 31ms/step - loss: 1.4208 - val_loss: 1.4252\n",
      "3976/3976 [==============================] - 5s 1ms/step\n"
     ]
    },
    {
     "name": "stderr",
     "output_type": "stream",
     "text": [
      "\u001b[32m[I 2023-05-29 14:32:25,626]\u001b[0m Trial 3 finished with value: 0.0 and parameters: {'num_hidden_layers': 3, 'dropout_rate': 0.30000000000000004, 'learning_rate': 0.03534234664650463, 'num_units_0': 389, 'num_units_1': 338, 'num_units_2': 388}. Best is trial 2 with value: 0.889194667339325.\u001b[0m\n"
     ]
    },
    {
     "name": "stdout",
     "output_type": "stream",
     "text": [
      "Epoch 1/15\n",
      "603/603 [==============================] - 7s 11ms/step - loss: 0.3368 - val_loss: 0.3963\n",
      "Epoch 2/15\n",
      "603/603 [==============================] - 7s 12ms/step - loss: 0.2222 - val_loss: 0.3089\n",
      "Epoch 3/15\n",
      "603/603 [==============================] - 7s 11ms/step - loss: 0.1901 - val_loss: 0.3829\n",
      "Epoch 4/15\n",
      "603/603 [==============================] - 7s 12ms/step - loss: 0.1696 - val_loss: 0.3548\n",
      "Epoch 5/15\n",
      "603/603 [==============================] - 7s 12ms/step - loss: 0.1538 - val_loss: 0.3154\n",
      "Epoch 6/15\n",
      "603/603 [==============================] - 7s 12ms/step - loss: 0.1414 - val_loss: 0.2719\n",
      "Epoch 7/15\n",
      "603/603 [==============================] - 6s 9ms/step - loss: 0.1290 - val_loss: 0.3107\n",
      "Epoch 8/15\n",
      "603/603 [==============================] - 6s 10ms/step - loss: 0.1195 - val_loss: 0.3003\n",
      "Epoch 9/15\n",
      "603/603 [==============================] - 7s 11ms/step - loss: 0.1117 - val_loss: 0.2717\n",
      "Epoch 10/15\n",
      "603/603 [==============================] - 7s 12ms/step - loss: 0.1033 - val_loss: 0.3126\n",
      "Epoch 11/15\n",
      "603/603 [==============================] - 7s 11ms/step - loss: 0.0964 - val_loss: 0.2665\n",
      "Epoch 12/15\n",
      "603/603 [==============================] - 6s 11ms/step - loss: 0.0895 - val_loss: 0.2454\n",
      "Epoch 13/15\n",
      "603/603 [==============================] - 6s 11ms/step - loss: 0.0841 - val_loss: 0.2149\n",
      "Epoch 14/15\n",
      "603/603 [==============================] - 7s 11ms/step - loss: 0.0803 - val_loss: 0.2402\n",
      "Epoch 15/15\n",
      "603/603 [==============================] - 6s 10ms/step - loss: 0.0747 - val_loss: 0.2131\n",
      "3976/3976 [==============================] - 3s 784us/step\n"
     ]
    },
    {
     "name": "stderr",
     "output_type": "stream",
     "text": [
      "\u001b[32m[I 2023-05-29 14:34:10,146]\u001b[0m Trial 4 finished with value: 0.8344270586967468 and parameters: {'num_hidden_layers': 2, 'dropout_rate': 0.2, 'learning_rate': 0.0004839379635846532, 'num_units_0': 195, 'num_units_1': 347}. Best is trial 2 with value: 0.889194667339325.\u001b[0m\n"
     ]
    },
    {
     "name": "stdout",
     "output_type": "stream",
     "text": [
      "Epoch 1/15\n",
      "597/603 [============================>.] - ETA: 0s - loss: 0.2797"
     ]
    },
    {
     "name": "stderr",
     "output_type": "stream",
     "text": [
      "\u001b[32m[I 2023-05-29 14:34:13,063]\u001b[0m Trial 5 pruned. Trial was pruned at epoch 0.\u001b[0m\n"
     ]
    },
    {
     "name": "stdout",
     "output_type": "stream",
     "text": [
      "Epoch 1/15\n",
      "602/603 [============================>.] - ETA: 0s - loss: 0.2699"
     ]
    },
    {
     "name": "stderr",
     "output_type": "stream",
     "text": [
      "\u001b[32m[I 2023-05-29 14:34:26,889]\u001b[0m Trial 6 pruned. Trial was pruned at epoch 0.\u001b[0m\n"
     ]
    },
    {
     "name": "stdout",
     "output_type": "stream",
     "text": [
      "Epoch 1/15\n",
      "600/603 [============================>.] - ETA: 0s - loss: 0.2775"
     ]
    },
    {
     "name": "stderr",
     "output_type": "stream",
     "text": [
      "\u001b[32m[I 2023-05-29 14:34:36,664]\u001b[0m Trial 7 pruned. Trial was pruned at epoch 0.\u001b[0m\n"
     ]
    },
    {
     "name": "stdout",
     "output_type": "stream",
     "text": [
      "Epoch 1/15\n",
      "603/603 [==============================] - 22s 35ms/step - loss: 0.4353 - val_loss: 0.5277\n",
      "Epoch 2/15\n",
      "603/603 [==============================] - 25s 41ms/step - loss: 0.3702 - val_loss: 0.4070\n",
      "Epoch 3/15\n",
      "603/603 [==============================] - 23s 39ms/step - loss: 0.3362 - val_loss: 0.5846\n",
      "Epoch 4/15\n",
      "603/603 [==============================] - 22s 37ms/step - loss: 0.3758 - val_loss: 0.4735\n",
      "Epoch 5/15\n",
      "603/603 [==============================] - 24s 40ms/step - loss: 0.3667 - val_loss: 0.4843\n",
      "Epoch 6/15\n",
      "603/603 [==============================] - 18s 30ms/step - loss: 0.3339 - val_loss: 0.5429\n",
      "Epoch 7/15\n",
      "603/603 [==============================] - 20s 33ms/step - loss: 0.4469 - val_loss: 0.5091\n",
      "3976/3976 [==============================] - 13s 3ms/step\n"
     ]
    },
    {
     "name": "stderr",
     "output_type": "stream",
     "text": [
      "\u001b[32m[I 2023-05-29 14:37:25,386]\u001b[0m Trial 8 finished with value: 0.8691641688346863 and parameters: {'num_hidden_layers': 5, 'dropout_rate': 0.30000000000000004, 'learning_rate': 0.006897370850315689, 'num_units_0': 118, 'num_units_1': 435, 'num_units_2': 334, 'num_units_3': 308, 'num_units_4': 217}. Best is trial 2 with value: 0.889194667339325.\u001b[0m\n"
     ]
    },
    {
     "name": "stdout",
     "output_type": "stream",
     "text": [
      "Epoch 1/15\n",
      "603/603 [==============================] - 11s 17ms/step - loss: 0.3205 - val_loss: 0.4729\n",
      "Epoch 2/15\n",
      "603/603 [==============================] - 12s 20ms/step - loss: 0.2475 - val_loss: 0.4357\n",
      "Epoch 3/15\n",
      "603/603 [==============================] - 12s 20ms/step - loss: 0.2340 - val_loss: 0.3542\n",
      "Epoch 4/15\n",
      "603/603 [==============================] - 13s 21ms/step - loss: 0.2168 - val_loss: 0.4313\n",
      "Epoch 5/15\n",
      "603/603 [==============================] - 12s 20ms/step - loss: 0.2048 - val_loss: 0.4631\n",
      "Epoch 6/15\n",
      "603/603 [==============================] - 12s 20ms/step - loss: 0.2052 - val_loss: 0.3735\n",
      "Epoch 7/15\n",
      "603/603 [==============================] - 10s 17ms/step - loss: 0.1978 - val_loss: 0.3646\n",
      "Epoch 8/15\n",
      "603/603 [==============================] - 12s 21ms/step - loss: 0.1748 - val_loss: 0.3576\n",
      "3976/3976 [==============================] - 7s 2ms/step\n"
     ]
    },
    {
     "name": "stderr",
     "output_type": "stream",
     "text": [
      "\u001b[32m[I 2023-05-29 14:39:08,272]\u001b[0m Trial 9 finished with value: 0.8438003659248352 and parameters: {'num_hidden_layers': 2, 'dropout_rate': 0.2, 'learning_rate': 0.011063748563756831, 'num_units_0': 457, 'num_units_1': 293}. Best is trial 2 with value: 0.889194667339325.\u001b[0m\n"
     ]
    },
    {
     "name": "stdout",
     "output_type": "stream",
     "text": [
      "Epoch 1/15\n",
      "603/603 [==============================] - 2s 3ms/step - loss: 0.9269 - val_loss: 1.0663\n",
      "Epoch 2/15\n",
      "603/603 [==============================] - 2s 3ms/step - loss: 0.4718 - val_loss: 0.7240\n",
      "Epoch 3/15\n",
      "603/603 [==============================] - 2s 3ms/step - loss: 0.3787 - val_loss: 0.6031\n",
      "Epoch 4/15\n",
      "603/603 [==============================] - 2s 3ms/step - loss: 0.3387 - val_loss: 0.5538\n",
      "Epoch 5/15\n",
      "603/603 [==============================] - 2s 3ms/step - loss: 0.3151 - val_loss: 0.5049\n",
      "Epoch 6/15\n",
      "603/603 [==============================] - 2s 3ms/step - loss: 0.2989 - val_loss: 0.4940\n",
      "Epoch 7/15\n",
      "603/603 [==============================] - 2s 3ms/step - loss: 0.2866 - val_loss: 0.4830\n",
      "Epoch 8/15\n",
      "603/603 [==============================] - 2s 3ms/step - loss: 0.2770 - val_loss: 0.4552\n",
      "Epoch 9/15\n",
      "603/603 [==============================] - 2s 3ms/step - loss: 0.2689 - val_loss: 0.4522\n",
      "Epoch 10/15\n",
      "603/603 [==============================] - 2s 3ms/step - loss: 0.2618 - val_loss: 0.4442\n",
      "Epoch 11/15\n",
      "603/603 [==============================] - 2s 3ms/step - loss: 0.2555 - val_loss: 0.4356\n",
      "Epoch 12/15\n",
      "603/603 [==============================] - 2s 3ms/step - loss: 0.2498 - val_loss: 0.4233\n",
      "Epoch 13/15\n",
      "603/603 [==============================] - 2s 3ms/step - loss: 0.2448 - val_loss: 0.4187\n",
      "Epoch 14/15\n",
      "603/603 [==============================] - 2s 3ms/step - loss: 0.2401 - val_loss: 0.4233\n",
      "Epoch 15/15\n",
      "603/603 [==============================] - 2s 4ms/step - loss: 0.2358 - val_loss: 0.4120\n",
      "3976/3976 [==============================] - 3s 757us/step\n"
     ]
    },
    {
     "name": "stderr",
     "output_type": "stream",
     "text": [
      "\u001b[32m[I 2023-05-29 14:39:41,192]\u001b[0m Trial 10 finished with value: 0.8837345838546753 and parameters: {'num_hidden_layers': 1, 'dropout_rate': 0.5, 'learning_rate': 0.00014315554041847297, 'num_units_0': 67}. Best is trial 2 with value: 0.889194667339325.\u001b[0m\n"
     ]
    },
    {
     "name": "stdout",
     "output_type": "stream",
     "text": [
      "Epoch 1/15\n",
      "603/603 [==============================] - 2s 3ms/step - loss: 0.8089 - val_loss: 0.9470\n",
      "Epoch 2/15\n",
      "603/603 [==============================] - 2s 3ms/step - loss: 0.4448 - val_loss: 0.6877\n",
      "Epoch 3/15\n",
      "603/603 [==============================] - 3s 4ms/step - loss: 0.3679 - val_loss: 0.5894\n",
      "Epoch 4/15\n",
      "603/603 [==============================] - 2s 4ms/step - loss: 0.3315 - val_loss: 0.5385\n",
      "Epoch 5/15\n",
      "603/603 [==============================] - 2s 4ms/step - loss: 0.3092 - val_loss: 0.5012\n",
      "Epoch 6/15\n",
      "603/603 [==============================] - 2s 4ms/step - loss: 0.2936 - val_loss: 0.4743\n",
      "Epoch 7/15\n",
      "603/603 [==============================] - 2s 4ms/step - loss: 0.2819 - val_loss: 0.4619\n",
      "Epoch 8/15\n",
      "603/603 [==============================] - 2s 4ms/step - loss: 0.2724 - val_loss: 0.4579\n",
      "Epoch 9/15\n",
      "603/603 [==============================] - 2s 4ms/step - loss: 0.2645 - val_loss: 0.4448\n",
      "Epoch 10/15\n",
      "603/603 [==============================] - 2s 4ms/step - loss: 0.2576 - val_loss: 0.4358\n",
      "Epoch 11/15\n",
      "603/603 [==============================] - 2s 4ms/step - loss: 0.2513 - val_loss: 0.4264\n",
      "Epoch 12/15\n",
      "603/603 [==============================] - 2s 3ms/step - loss: 0.2458 - val_loss: 0.4097\n",
      "Epoch 13/15\n",
      "603/603 [==============================] - 2s 3ms/step - loss: 0.2407 - val_loss: 0.4203\n",
      "Epoch 14/15\n",
      "603/603 [==============================] - 2s 4ms/step - loss: 0.2360 - val_loss: 0.4052\n",
      "Epoch 15/15\n",
      "603/603 [==============================] - 2s 4ms/step - loss: 0.2315 - val_loss: 0.3945\n",
      "3976/3976 [==============================] - 3s 694us/step\n"
     ]
    },
    {
     "name": "stderr",
     "output_type": "stream",
     "text": [
      "\u001b[32m[I 2023-05-29 14:40:18,428]\u001b[0m Trial 11 finished with value: 0.8881816864013672 and parameters: {'num_hidden_layers': 1, 'dropout_rate': 0.5, 'learning_rate': 0.00010268675565005232, 'num_units_0': 113}. Best is trial 2 with value: 0.889194667339325.\u001b[0m\n"
     ]
    },
    {
     "name": "stdout",
     "output_type": "stream",
     "text": [
      "Epoch 1/15\n",
      "603/603 [==============================] - 8s 12ms/step - loss: 0.5899 - val_loss: 0.5765\n",
      "Epoch 2/15\n",
      "603/603 [==============================] - 6s 9ms/step - loss: 0.3381 - val_loss: 0.4731\n",
      "Epoch 3/15\n",
      "603/603 [==============================] - 5s 8ms/step - loss: 0.2962 - val_loss: 0.4340\n",
      "Epoch 4/15\n",
      "603/603 [==============================] - 5s 9ms/step - loss: 0.2708 - val_loss: 0.4178\n",
      "Epoch 5/15\n",
      "603/603 [==============================] - 5s 9ms/step - loss: 0.2566 - val_loss: 0.4254\n",
      "Epoch 6/15\n",
      "603/603 [==============================] - 6s 9ms/step - loss: 0.2391 - val_loss: 0.3958\n",
      "Epoch 7/15\n",
      "603/603 [==============================] - 6s 10ms/step - loss: 0.2264 - val_loss: 0.3757\n",
      "Epoch 8/15\n",
      "603/603 [==============================] - 6s 10ms/step - loss: 0.2168 - val_loss: 0.3498\n",
      "Epoch 9/15\n",
      "603/603 [==============================] - 6s 10ms/step - loss: 0.2095 - val_loss: 0.3442\n",
      "Epoch 10/15\n",
      "603/603 [==============================] - 6s 11ms/step - loss: 0.2011 - val_loss: 0.3421\n",
      "Epoch 11/15\n",
      "603/603 [==============================] - 6s 10ms/step - loss: 0.1923 - val_loss: 0.3408\n",
      "Epoch 12/15\n",
      "603/603 [==============================] - 6s 10ms/step - loss: 0.1882 - val_loss: 0.3303\n",
      "Epoch 13/15\n",
      "603/603 [==============================] - 6s 10ms/step - loss: 0.1825 - val_loss: 0.3525\n",
      "Epoch 14/15\n",
      "603/603 [==============================] - 6s 10ms/step - loss: 0.1776 - val_loss: 0.3309\n",
      "Epoch 15/15\n",
      "603/603 [==============================] - 5s 9ms/step - loss: 0.1730 - val_loss: 0.3232\n",
      "3976/3976 [==============================] - 3s 823us/step\n"
     ]
    },
    {
     "name": "stderr",
     "output_type": "stream",
     "text": [
      "\u001b[32m[I 2023-05-29 14:41:51,230]\u001b[0m Trial 12 finished with value: 0.895666778087616 and parameters: {'num_hidden_layers': 2, 'dropout_rate': 0.5, 'learning_rate': 0.00020641708937144267, 'num_units_0': 147, 'num_units_1': 153}. Best is trial 12 with value: 0.895666778087616.\u001b[0m\n"
     ]
    },
    {
     "name": "stdout",
     "output_type": "stream",
     "text": [
      "Epoch 1/15\n",
      "603/603 [==============================] - 7s 11ms/step - loss: 0.4745 - val_loss: 0.5320\n",
      "Epoch 2/15\n",
      "603/603 [==============================] - 7s 11ms/step - loss: 0.2986 - val_loss: 0.4222\n",
      "Epoch 3/15\n",
      "603/603 [==============================] - 7s 11ms/step - loss: 0.2603 - val_loss: 0.3985\n",
      "Epoch 4/15\n",
      "603/603 [==============================] - 6s 11ms/step - loss: 0.2380 - val_loss: 0.3968\n",
      "Epoch 5/15\n",
      "603/603 [==============================] - 7s 11ms/step - loss: 0.2238 - val_loss: 0.3550\n",
      "Epoch 6/15\n",
      "603/603 [==============================] - 7s 12ms/step - loss: 0.2086 - val_loss: 0.3805\n",
      "Epoch 7/15\n",
      "603/603 [==============================] - 8s 13ms/step - loss: 0.1973 - val_loss: 0.3418\n",
      "Epoch 8/15\n",
      "603/603 [==============================] - 8s 13ms/step - loss: 0.1886 - val_loss: 0.3664\n",
      "Epoch 9/15\n",
      "603/603 [==============================] - 6s 11ms/step - loss: 0.1813 - val_loss: 0.3382\n",
      "Epoch 10/15\n",
      "603/603 [==============================] - 6s 10ms/step - loss: 0.1734 - val_loss: 0.2976\n",
      "Epoch 11/15\n",
      "603/603 [==============================] - 6s 11ms/step - loss: 0.1658 - val_loss: 0.3055\n",
      "Epoch 12/15\n",
      "603/603 [==============================] - 6s 10ms/step - loss: 0.1599 - val_loss: 0.3108\n",
      "Epoch 13/15\n",
      "603/603 [==============================] - 6s 10ms/step - loss: 0.1551 - val_loss: 0.3172\n",
      "Epoch 14/15\n",
      "603/603 [==============================] - 8s 13ms/step - loss: 0.1505 - val_loss: 0.3201\n",
      "Epoch 15/15\n",
      "603/603 [==============================] - 7s 11ms/step - loss: 0.1450 - val_loss: 0.3020\n",
      "3976/3976 [==============================] - 3s 818us/step\n"
     ]
    },
    {
     "name": "stderr",
     "output_type": "stream",
     "text": [
      "\u001b[32m[I 2023-05-29 14:43:37,014]\u001b[0m Trial 13 finished with value: 0.8939281702041626 and parameters: {'num_hidden_layers': 2, 'dropout_rate': 0.4, 'learning_rate': 0.00025886244491000326, 'num_units_0': 152, 'num_units_1': 171}. Best is trial 12 with value: 0.895666778087616.\u001b[0m\n"
     ]
    },
    {
     "name": "stdout",
     "output_type": "stream",
     "text": [
      "Epoch 1/15\n",
      "602/603 [============================>.] - ETA: 0s - loss: 0.5150"
     ]
    },
    {
     "name": "stderr",
     "output_type": "stream",
     "text": [
      "\u001b[32m[I 2023-05-29 14:43:45,026]\u001b[0m Trial 14 pruned. Trial was pruned at epoch 0.\u001b[0m\n"
     ]
    },
    {
     "name": "stdout",
     "output_type": "stream",
     "text": [
      "Epoch 1/15\n",
      "603/603 [==============================] - 13s 20ms/step - loss: 0.6855 - val_loss: 0.6448\n",
      "Epoch 2/15\n",
      "603/603 [==============================] - 13s 22ms/step - loss: 0.4079 - val_loss: 0.5633\n",
      "Epoch 3/15\n",
      "603/603 [==============================] - 12s 20ms/step - loss: 0.3590 - val_loss: 0.5528\n",
      "Epoch 4/15\n",
      "603/603 [==============================] - 12s 21ms/step - loss: 0.3285 - val_loss: 0.4790\n",
      "Epoch 5/15\n",
      "603/603 [==============================] - 12s 20ms/step - loss: 0.3117 - val_loss: 0.4845\n",
      "Epoch 6/15\n",
      "603/603 [==============================] - 11s 19ms/step - loss: 0.2978 - val_loss: 0.4429\n",
      "Epoch 7/15\n",
      "603/603 [==============================] - 12s 20ms/step - loss: 0.2839 - val_loss: 0.4309\n",
      "Epoch 8/15\n",
      "603/603 [==============================] - 11s 19ms/step - loss: 0.2731 - val_loss: 0.4298\n",
      "Epoch 9/15\n",
      "603/603 [==============================] - 11s 18ms/step - loss: 0.2647 - val_loss: 0.4216\n",
      "Epoch 10/15\n",
      "603/603 [==============================] - 12s 20ms/step - loss: 0.2581 - val_loss: 0.4181\n",
      "Epoch 11/15\n",
      "603/603 [==============================] - 13s 21ms/step - loss: 0.2499 - val_loss: 0.4034\n",
      "Epoch 12/15\n",
      "603/603 [==============================] - 13s 21ms/step - loss: 0.2454 - val_loss: 0.4009\n",
      "Epoch 13/15\n",
      "603/603 [==============================] - 14s 22ms/step - loss: 0.2387 - val_loss: 0.3797\n",
      "Epoch 14/15\n",
      "603/603 [==============================] - 13s 22ms/step - loss: 0.2345 - val_loss: 0.3884\n",
      "Epoch 15/15\n",
      "603/603 [==============================] - 12s 20ms/step - loss: 0.2285 - val_loss: 0.3839\n",
      "3976/3976 [==============================] - 5s 1ms/step\n"
     ]
    },
    {
     "name": "stderr",
     "output_type": "stream",
     "text": [
      "\u001b[32m[I 2023-05-29 14:46:55,832]\u001b[0m Trial 15 finished with value: 0.8907171487808228 and parameters: {'num_hidden_layers': 3, 'dropout_rate': 0.4, 'learning_rate': 0.00010166171080261057, 'num_units_0': 67, 'num_units_1': 154, 'num_units_2': 504}. Best is trial 12 with value: 0.895666778087616.\u001b[0m\n"
     ]
    },
    {
     "name": "stdout",
     "output_type": "stream",
     "text": [
      "Epoch 1/15\n",
      "601/603 [============================>.] - ETA: 0s - loss: 0.4022"
     ]
    },
    {
     "name": "stderr",
     "output_type": "stream",
     "text": [
      "\u001b[32m[I 2023-05-29 14:47:01,747]\u001b[0m Trial 16 pruned. Trial was pruned at epoch 0.\u001b[0m\n"
     ]
    },
    {
     "name": "stdout",
     "output_type": "stream",
     "text": [
      "Epoch 1/15\n",
      "603/603 [==============================] - 2s 3ms/step - loss: 0.5270 - val_loss: 0.5672\n",
      "Epoch 2/15\n",
      "603/603 [==============================] - 2s 3ms/step - loss: 0.3065 - val_loss: 0.4835\n",
      "Epoch 3/15\n",
      "603/603 [==============================] - 2s 3ms/step - loss: 0.2692 - val_loss: 0.4146\n",
      "Epoch 4/15\n",
      "603/603 [==============================] - 2s 3ms/step - loss: 0.2475 - val_loss: 0.4116\n",
      "Epoch 5/15\n",
      "603/603 [==============================] - 2s 3ms/step - loss: 0.2312 - val_loss: 0.3871\n",
      "Epoch 6/15\n",
      "603/603 [==============================] - 2s 3ms/step - loss: 0.2184 - val_loss: 0.3751\n",
      "Epoch 7/15\n",
      "603/603 [==============================] - 2s 3ms/step - loss: 0.2079 - val_loss: 0.3822\n",
      "Epoch 8/15\n",
      "603/603 [==============================] - 2s 3ms/step - loss: 0.1992 - val_loss: 0.3725\n",
      "Epoch 9/15\n",
      "603/603 [==============================] - 2s 3ms/step - loss: 0.1916 - val_loss: 0.3656\n",
      "Epoch 10/15\n",
      "603/603 [==============================] - 2s 3ms/step - loss: 0.1852 - val_loss: 0.3562\n",
      "Epoch 11/15\n",
      "603/603 [==============================] - 2s 3ms/step - loss: 0.1795 - val_loss: 0.3569\n",
      "Epoch 12/15\n",
      "603/603 [==============================] - 2s 3ms/step - loss: 0.1741 - val_loss: 0.3603\n",
      "Epoch 13/15\n",
      "603/603 [==============================] - 2s 3ms/step - loss: 0.1697 - val_loss: 0.3549\n",
      "Epoch 14/15\n",
      "603/603 [==============================] - 2s 3ms/step - loss: 0.1655 - val_loss: 0.3333\n",
      "Epoch 15/15\n",
      "603/603 [==============================] - 2s 3ms/step - loss: 0.1616 - val_loss: 0.3227\n",
      "3976/3976 [==============================] - 3s 699us/step\n"
     ]
    },
    {
     "name": "stderr",
     "output_type": "stream",
     "text": [
      "\u001b[32m[I 2023-05-29 14:47:33,309]\u001b[0m Trial 17 finished with value: 0.894852340221405 and parameters: {'num_hidden_layers': 1, 'dropout_rate': 0.4, 'learning_rate': 0.00023420291130738413, 'num_units_0': 242}. Best is trial 12 with value: 0.895666778087616.\u001b[0m\n"
     ]
    },
    {
     "name": "stdout",
     "output_type": "stream",
     "text": [
      "Epoch 1/15\n",
      "602/603 [============================>.] - ETA: 0s - loss: 0.4839"
     ]
    },
    {
     "name": "stderr",
     "output_type": "stream",
     "text": [
      "\u001b[32m[I 2023-05-29 14:47:36,799]\u001b[0m Trial 18 pruned. Trial was pruned at epoch 0.\u001b[0m\n"
     ]
    },
    {
     "name": "stdout",
     "output_type": "stream",
     "text": [
      "Epoch 1/15\n",
      "598/603 [============================>.] - ETA: 0s - loss: 0.3428"
     ]
    },
    {
     "name": "stderr",
     "output_type": "stream",
     "text": [
      "\u001b[32m[I 2023-05-29 14:47:39,796]\u001b[0m Trial 19 pruned. Trial was pruned at epoch 0.\u001b[0m\n"
     ]
    },
    {
     "name": "stdout",
     "output_type": "stream",
     "text": [
      "Epoch 1/15\n",
      "602/603 [============================>.] - ETA: 0s - loss: 0.5191"
     ]
    },
    {
     "name": "stderr",
     "output_type": "stream",
     "text": [
      "\u001b[32m[I 2023-05-29 14:47:49,239]\u001b[0m Trial 20 pruned. Trial was pruned at epoch 0.\u001b[0m\n"
     ]
    },
    {
     "name": "stdout",
     "output_type": "stream",
     "text": [
      "Epoch 1/15\n",
      "597/603 [============================>.] - ETA: 0s - loss: 0.4500"
     ]
    },
    {
     "name": "stderr",
     "output_type": "stream",
     "text": [
      "\u001b[32m[I 2023-05-29 14:47:53,772]\u001b[0m Trial 21 pruned. Trial was pruned at epoch 0.\u001b[0m\n"
     ]
    },
    {
     "name": "stdout",
     "output_type": "stream",
     "text": [
      "Epoch 1/15\n",
      "603/603 [==============================] - 2s 3ms/step - loss: 0.6519 - val_loss: 0.6673\n",
      "Epoch 2/15\n",
      "603/603 [==============================] - 2s 3ms/step - loss: 0.3412 - val_loss: 0.5127\n",
      "Epoch 3/15\n",
      "603/603 [==============================] - 2s 3ms/step - loss: 0.2949 - val_loss: 0.4767\n",
      "Epoch 4/15\n",
      "603/603 [==============================] - 2s 3ms/step - loss: 0.2705 - val_loss: 0.4572\n",
      "Epoch 5/15\n",
      "603/603 [==============================] - 2s 3ms/step - loss: 0.2535 - val_loss: 0.4245\n",
      "Epoch 6/15\n",
      "603/603 [==============================] - 2s 3ms/step - loss: 0.2403 - val_loss: 0.4062\n",
      "Epoch 7/15\n",
      "603/603 [==============================] - 2s 3ms/step - loss: 0.2294 - val_loss: 0.3992\n",
      "Epoch 8/15\n",
      "603/603 [==============================] - 2s 3ms/step - loss: 0.2202 - val_loss: 0.3788\n",
      "Epoch 9/15\n",
      "603/603 [==============================] - 2s 3ms/step - loss: 0.2121 - val_loss: 0.3786\n",
      "Epoch 10/15\n",
      "603/603 [==============================] - 2s 3ms/step - loss: 0.2051 - val_loss: 0.3743\n",
      "Epoch 11/15\n",
      "603/603 [==============================] - 2s 3ms/step - loss: 0.1992 - val_loss: 0.3567\n",
      "Epoch 12/15\n",
      "603/603 [==============================] - 2s 3ms/step - loss: 0.1937 - val_loss: 0.3616\n",
      "Epoch 13/15\n",
      "603/603 [==============================] - 1s 2ms/step - loss: 0.1888 - val_loss: 0.3571\n",
      "Epoch 14/15\n",
      "603/603 [==============================] - 2s 2ms/step - loss: 0.1844 - val_loss: 0.3630\n",
      "Epoch 15/15\n",
      "603/603 [==============================] - 2s 3ms/step - loss: 0.1804 - val_loss: 0.3642\n",
      "3976/3976 [==============================] - 3s 745us/step\n"
     ]
    },
    {
     "name": "stderr",
     "output_type": "stream",
     "text": [
      "\u001b[32m[I 2023-05-29 14:48:22,559]\u001b[0m Trial 22 finished with value: 0.8879554867744446 and parameters: {'num_hidden_layers': 1, 'dropout_rate': 0.5, 'learning_rate': 0.00018289796733921007, 'num_units_0': 197}. Best is trial 12 with value: 0.895666778087616.\u001b[0m\n"
     ]
    },
    {
     "name": "stdout",
     "output_type": "stream",
     "text": [
      "Epoch 1/15\n",
      "594/603 [============================>.] - ETA: 0s - loss: 0.4695"
     ]
    },
    {
     "name": "stderr",
     "output_type": "stream",
     "text": [
      "\u001b[32m[I 2023-05-29 14:48:25,718]\u001b[0m Trial 23 pruned. Trial was pruned at epoch 0.\u001b[0m\n"
     ]
    },
    {
     "name": "stdout",
     "output_type": "stream",
     "text": [
      "Epoch 1/15\n",
      "602/603 [============================>.] - ETA: 0s - loss: 0.4471"
     ]
    },
    {
     "name": "stderr",
     "output_type": "stream",
     "text": [
      "\u001b[32m[I 2023-05-29 14:48:27,587]\u001b[0m Trial 24 pruned. Trial was pruned at epoch 0.\u001b[0m\n"
     ]
    },
    {
     "name": "stdout",
     "output_type": "stream",
     "text": [
      "Best trial: {'num_hidden_layers': 2, 'dropout_rate': 0.5, 'learning_rate': 0.00020641708937144267, 'num_units_0': 147, 'num_units_1': 153}, Validation accuracy: 0.8957\n"
     ]
    }
   ],
   "source": [
    "best_params, study = train_model_optuna(\n",
    "    X_train, y_train, X_valid, y_valid, n_trials=25, epochs=15, batch_size=1024\n",
    ")"
   ]
  },
  {
   "cell_type": "code",
   "execution_count": 404,
   "metadata": {},
   "outputs": [
    {
     "data": {
      "text/plain": [
       "{'num_hidden_layers': 2,\n",
       " 'dropout_rate': 0.5,\n",
       " 'learning_rate': 0.00020641708937144267,\n",
       " 'num_units_0': 147,\n",
       " 'num_units_1': 153}"
      ]
     },
     "execution_count": 404,
     "metadata": {},
     "output_type": "execute_result"
    }
   ],
   "source": [
    "best_params"
   ]
  },
  {
   "attachments": {},
   "cell_type": "markdown",
   "metadata": {},
   "source": [
    "#### Load the winning model"
   ]
  },
  {
   "cell_type": "code",
   "execution_count": 285,
   "metadata": {},
   "outputs": [
    {
     "name": "stdout",
     "output_type": "stream",
     "text": [
      "Model: \"sequential_196\"\n",
      "_________________________________________________________________\n",
      " Layer (type)                Output Shape              Param #   \n",
      "=================================================================\n",
      " dense_685 (Dense)           (None, 147)               4557      \n",
      "                                                                 \n",
      " dense_686 (Dense)           (None, 153)               22644     \n",
      "                                                                 \n",
      " dropout_314 (Dropout)       (None, 153)               0         \n",
      "                                                                 \n",
      " dense_687 (Dense)           (None, 5)                 770       \n",
      "                                                                 \n",
      "=================================================================\n",
      "Total params: 27,971\n",
      "Trainable params: 27,971\n",
      "Non-trainable params: 0\n",
      "_________________________________________________________________\n"
     ]
    }
   ],
   "source": [
    "with custom_object_scope({\"macro_recall\": macro_recall}):\n",
    "    # Load the saved model from a file\n",
    "    best_model = load_model(\"models/best_model.h5\")\n",
    "\n",
    "best_model.summary()"
   ]
  },
  {
   "attachments": {},
   "cell_type": "markdown",
   "metadata": {},
   "source": [
    "### Model evaluation "
   ]
  },
  {
   "cell_type": "code",
   "execution_count": 348,
   "metadata": {},
   "outputs": [
    {
     "name": "stdout",
     "output_type": "stream",
     "text": [
      "(122506, 30) (122506, 5)\n",
      "3829/3829 [==============================] - 4s 1ms/step\n",
      "classification report\n",
      "              precision    recall  f1-score        support\n",
      "0              0.997574  0.872085  0.930618  117867.000000\n",
      "1              0.146978  0.873073  0.251600    1103.000000\n",
      "2              0.247933  0.908040  0.389512    1816.000000\n",
      "3              0.278778  0.966079  0.432695     737.000000\n",
      "4              0.251011  0.947101  0.396846     983.000000\n",
      "accuracy       0.873794  0.873794  0.873794       0.873794\n",
      "macro avg      0.384455  0.913275  0.480254  122506.000000\n",
      "weighted avg   0.968488  0.873794  0.909204  122506.000000\n",
      "confusion matrix\n",
      "        Normal  comp1  comp2  comp3  comp4\n",
      "Normal  102790   5576   4953   1824   2724\n",
      "comp1       82    963     25      6     27\n",
      "comp2      123      6   1649     12     26\n",
      "comp3       16      4      4    712      1\n",
      "comp4       29      3     20      0    931\n"
     ]
    },
    {
     "data": {
      "text/html": [
       "<div>\n",
       "<style scoped>\n",
       "    .dataframe tbody tr th:only-of-type {\n",
       "        vertical-align: middle;\n",
       "    }\n",
       "\n",
       "    .dataframe tbody tr th {\n",
       "        vertical-align: top;\n",
       "    }\n",
       "\n",
       "    .dataframe thead th {\n",
       "        text-align: right;\n",
       "    }\n",
       "</style>\n",
       "<table border=\"1\" class=\"dataframe\">\n",
       "  <thead>\n",
       "    <tr style=\"text-align: right;\">\n",
       "      <th></th>\n",
       "      <th>recall</th>\n",
       "    </tr>\n",
       "  </thead>\n",
       "  <tbody>\n",
       "    <tr>\n",
       "      <th>Normal</th>\n",
       "      <td>0.87</td>\n",
       "    </tr>\n",
       "    <tr>\n",
       "      <th>comp1</th>\n",
       "      <td>0.87</td>\n",
       "    </tr>\n",
       "    <tr>\n",
       "      <th>comp2</th>\n",
       "      <td>0.91</td>\n",
       "    </tr>\n",
       "    <tr>\n",
       "      <th>comp3</th>\n",
       "      <td>0.97</td>\n",
       "    </tr>\n",
       "    <tr>\n",
       "      <th>comp4</th>\n",
       "      <td>0.95</td>\n",
       "    </tr>\n",
       "    <tr>\n",
       "      <th>macro avg</th>\n",
       "      <td>0.91</td>\n",
       "    </tr>\n",
       "    <tr>\n",
       "      <th>weighted avg</th>\n",
       "      <td>0.87</td>\n",
       "    </tr>\n",
       "  </tbody>\n",
       "</table>\n",
       "</div>"
      ],
      "text/plain": [
       "              recall\n",
       "Normal          0.87\n",
       "comp1           0.87\n",
       "comp2           0.91\n",
       "comp3           0.97\n",
       "comp4           0.95\n",
       "macro avg       0.91\n",
       "weighted avg    0.87"
      ]
     },
     "execution_count": 348,
     "metadata": {},
     "output_type": "execute_result"
    }
   ],
   "source": [
    "cm_test_hpo, report_test_hpo = evaluate_model(best_model, X_test, y_test)\n",
    "recall_test_hpo = get_recall_scores(report_test_hpo)\n",
    "recall_test_hpo"
   ]
  },
  {
   "attachments": {},
   "cell_type": "markdown",
   "metadata": {},
   "source": [
    "Very good, we have got an improvement in the macro average recall. "
   ]
  },
  {
   "attachments": {},
   "cell_type": "markdown",
   "metadata": {},
   "source": [
    "### Plot the results \n",
    "\n",
    "To be able to compare, lets plot them side-by-side"
   ]
  },
  {
   "cell_type": "code",
   "execution_count": 407,
   "metadata": {},
   "outputs": [
    {
     "data": {
      "text/html": [
       "<div>\n",
       "<style scoped>\n",
       "    .dataframe tbody tr th:only-of-type {\n",
       "        vertical-align: middle;\n",
       "    }\n",
       "\n",
       "    .dataframe tbody tr th {\n",
       "        vertical-align: top;\n",
       "    }\n",
       "\n",
       "    .dataframe thead th {\n",
       "        text-align: right;\n",
       "    }\n",
       "</style>\n",
       "<table border=\"1\" class=\"dataframe\">\n",
       "  <thead>\n",
       "    <tr style=\"text-align: right;\">\n",
       "      <th></th>\n",
       "      <th>MLP_HPO</th>\n",
       "      <th>MLP_NO_HPO</th>\n",
       "    </tr>\n",
       "  </thead>\n",
       "  <tbody>\n",
       "    <tr>\n",
       "      <th>Normal</th>\n",
       "      <td>0.87</td>\n",
       "      <td>0.94</td>\n",
       "    </tr>\n",
       "    <tr>\n",
       "      <th>comp1</th>\n",
       "      <td>0.87</td>\n",
       "      <td>0.78</td>\n",
       "    </tr>\n",
       "    <tr>\n",
       "      <th>comp2</th>\n",
       "      <td>0.91</td>\n",
       "      <td>0.83</td>\n",
       "    </tr>\n",
       "    <tr>\n",
       "      <th>comp3</th>\n",
       "      <td>0.97</td>\n",
       "      <td>0.92</td>\n",
       "    </tr>\n",
       "    <tr>\n",
       "      <th>comp4</th>\n",
       "      <td>0.95</td>\n",
       "      <td>0.87</td>\n",
       "    </tr>\n",
       "    <tr>\n",
       "      <th>macro avg</th>\n",
       "      <td>0.91</td>\n",
       "      <td>0.87</td>\n",
       "    </tr>\n",
       "    <tr>\n",
       "      <th>weighted avg</th>\n",
       "      <td>0.87</td>\n",
       "      <td>0.93</td>\n",
       "    </tr>\n",
       "  </tbody>\n",
       "</table>\n",
       "</div>"
      ],
      "text/plain": [
       "              MLP_HPO  MLP_NO_HPO\n",
       "Normal           0.87        0.94\n",
       "comp1            0.87        0.78\n",
       "comp2            0.91        0.83\n",
       "comp3            0.97        0.92\n",
       "comp4            0.95        0.87\n",
       "macro avg        0.91        0.87\n",
       "weighted avg     0.87        0.93"
      ]
     },
     "execution_count": 407,
     "metadata": {},
     "output_type": "execute_result"
    }
   ],
   "source": [
    "# combine the recall scores into a single dataframe\n",
    "recall_test_hpo = pd.DataFrame(recall_test_hpo)\n",
    "recall_test_hpo.columns = [\"MLP_HPO\"]\n",
    "recall_test_no_hpo = pd.DataFrame(recall_test_no_hpo)\n",
    "recall_test_no_hpo.columns = [\"MLP_NO_HPO\"]\n",
    "recall_test_comb = pd.concat([recall_test_hpo, recall_test_no_hpo], axis=1)\n",
    "recall_test_comb"
   ]
  },
  {
   "cell_type": "code",
   "execution_count": 380,
   "metadata": {},
   "outputs": [
    {
     "data": {
      "image/png": "[encoded data removed]",
      "text/plain": [
       "<Figure size 1000x500 with 1 Axes>"
      ]
     },
     "metadata": {},
     "output_type": "display_data"
    }
   ],
   "source": [
    "recall_test_comb.plot(kind=\"bar\", figsize=(10, 5), rot=0)\n",
    "plt.ylim(0.7, 1.0)\n",
    "# xlabels vertical\n",
    "plt.xticks(rotation=90)\n",
    "plt.title(\"Recall Scores for Test Set\")\n",
    "plt.ylabel(\"Recall Score\")\n",
    "plt.show()"
   ]
  },
  {
   "attachments": {},
   "cell_type": "markdown",
   "metadata": {},
   "source": [
    "For now, we only run the experiment with 25 trials. Obviously, if we run it longer, we might improve it further. "
   ]
  },
  {
   "attachments": {},
   "cell_type": "markdown",
   "metadata": {},
   "source": [
    "## LightGBM \n",
    "\n",
    "Lets see how LightGBM, a boosting algorithm performs. Typically, the boosting algorithms work really well on tabular data. "
   ]
  },
  {
   "cell_type": "code",
   "execution_count": 361,
   "metadata": {},
   "outputs": [],
   "source": [
    "# Reverse the one-hot encoding of the labels, lightgbm requires the labels to be integers\n",
    "y_train_decoded = np.argmax(y_train, axis=1)"
   ]
  },
  {
   "cell_type": "code",
   "execution_count": 368,
   "metadata": {},
   "outputs": [],
   "source": [
    "# create a lightgbm classifier\n",
    "lgbm = LGBMClassifier(\n",
    "    objective=\"multiclass\", num_class=5, random_state=5, class_weight=\"balanced\"\n",
    ")\n",
    "\n",
    "# fit the classifier to the training data\n",
    "lgbm.fit(X_train, y_train_decoded)\n",
    "\n",
    "# predict on the test data\n",
    "y_pred = lgbm.predict(X_test)"
   ]
  },
  {
   "cell_type": "code",
   "execution_count": 409,
   "metadata": {},
   "outputs": [
    {
     "data": {
      "text/html": [
       "<div>\n",
       "<style scoped>\n",
       "    .dataframe tbody tr th:only-of-type {\n",
       "        vertical-align: middle;\n",
       "    }\n",
       "\n",
       "    .dataframe tbody tr th {\n",
       "        vertical-align: top;\n",
       "    }\n",
       "\n",
       "    .dataframe thead th {\n",
       "        text-align: right;\n",
       "    }\n",
       "</style>\n",
       "<table border=\"1\" class=\"dataframe\">\n",
       "  <thead>\n",
       "    <tr style=\"text-align: right;\">\n",
       "      <th></th>\n",
       "      <th>Normal</th>\n",
       "      <th>comp1</th>\n",
       "      <th>comp2</th>\n",
       "      <th>comp3</th>\n",
       "      <th>comp4</th>\n",
       "    </tr>\n",
       "  </thead>\n",
       "  <tbody>\n",
       "    <tr>\n",
       "      <th>Normal</th>\n",
       "      <td>115779</td>\n",
       "      <td>761</td>\n",
       "      <td>843</td>\n",
       "      <td>130</td>\n",
       "      <td>354</td>\n",
       "    </tr>\n",
       "    <tr>\n",
       "      <th>comp1</th>\n",
       "      <td>28</td>\n",
       "      <td>1021</td>\n",
       "      <td>39</td>\n",
       "      <td>1</td>\n",
       "      <td>14</td>\n",
       "    </tr>\n",
       "    <tr>\n",
       "      <th>comp2</th>\n",
       "      <td>68</td>\n",
       "      <td>2</td>\n",
       "      <td>1704</td>\n",
       "      <td>15</td>\n",
       "      <td>27</td>\n",
       "    </tr>\n",
       "    <tr>\n",
       "      <th>comp3</th>\n",
       "      <td>10</td>\n",
       "      <td>2</td>\n",
       "      <td>1</td>\n",
       "      <td>722</td>\n",
       "      <td>2</td>\n",
       "    </tr>\n",
       "    <tr>\n",
       "      <th>comp4</th>\n",
       "      <td>6</td>\n",
       "      <td>7</td>\n",
       "      <td>17</td>\n",
       "      <td>0</td>\n",
       "      <td>953</td>\n",
       "    </tr>\n",
       "  </tbody>\n",
       "</table>\n",
       "</div>"
      ],
      "text/plain": [
       "        Normal  comp1  comp2  comp3  comp4\n",
       "Normal  115779    761    843    130    354\n",
       "comp1       28   1021     39      1     14\n",
       "comp2       68      2   1704     15     27\n",
       "comp3       10      2      1    722      2\n",
       "comp4        6      7     17      0    953"
      ]
     },
     "execution_count": 409,
     "metadata": {},
     "output_type": "execute_result"
    }
   ],
   "source": [
    "# confusion matrix\n",
    "y_test_decoded = np.argmax(y_test, axis=1)\n",
    "cm_lgbm = confusion_matrix(y_test_decoded, y_pred)\n",
    "df_cm_lgbm = pd.DataFrame(cm_lgbm, index=labels, columns=labels)\n",
    "df_cm_lgbm"
   ]
  },
  {
   "cell_type": "code",
   "execution_count": 377,
   "metadata": {},
   "outputs": [
    {
     "name": "stdout",
     "output_type": "stream",
     "text": [
      "              precision    recall  f1-score        support\n",
      "0              0.999034  0.982285  0.990589  117867.000000\n",
      "1              0.569437  0.925657  0.705110    1103.000000\n",
      "2              0.654378  0.938326  0.771041    1816.000000\n",
      "3              0.831797  0.979647  0.899688     737.000000\n",
      "4              0.705926  0.969481  0.816974     983.000000\n",
      "accuracy       0.981005  0.981005  0.981005       0.981005\n",
      "macro avg      0.752114  0.959079  0.836680  122506.000000\n",
      "weighted avg   0.986699  0.981005  0.982824  122506.000000\n"
     ]
    },
    {
     "data": {
      "text/html": [
       "<div>\n",
       "<style scoped>\n",
       "    .dataframe tbody tr th:only-of-type {\n",
       "        vertical-align: middle;\n",
       "    }\n",
       "\n",
       "    .dataframe tbody tr th {\n",
       "        vertical-align: top;\n",
       "    }\n",
       "\n",
       "    .dataframe thead th {\n",
       "        text-align: right;\n",
       "    }\n",
       "</style>\n",
       "<table border=\"1\" class=\"dataframe\">\n",
       "  <thead>\n",
       "    <tr style=\"text-align: right;\">\n",
       "      <th></th>\n",
       "      <th>recall</th>\n",
       "    </tr>\n",
       "  </thead>\n",
       "  <tbody>\n",
       "    <tr>\n",
       "      <th>Normal</th>\n",
       "      <td>0.98</td>\n",
       "    </tr>\n",
       "    <tr>\n",
       "      <th>comp1</th>\n",
       "      <td>0.93</td>\n",
       "    </tr>\n",
       "    <tr>\n",
       "      <th>comp2</th>\n",
       "      <td>0.94</td>\n",
       "    </tr>\n",
       "    <tr>\n",
       "      <th>comp3</th>\n",
       "      <td>0.98</td>\n",
       "    </tr>\n",
       "    <tr>\n",
       "      <th>comp4</th>\n",
       "      <td>0.97</td>\n",
       "    </tr>\n",
       "    <tr>\n",
       "      <th>macro avg</th>\n",
       "      <td>0.96</td>\n",
       "    </tr>\n",
       "    <tr>\n",
       "      <th>weighted avg</th>\n",
       "      <td>0.98</td>\n",
       "    </tr>\n",
       "  </tbody>\n",
       "</table>\n",
       "</div>"
      ],
      "text/plain": [
       "              recall\n",
       "Normal          0.98\n",
       "comp1           0.93\n",
       "comp2           0.94\n",
       "comp3           0.98\n",
       "comp4           0.97\n",
       "macro avg       0.96\n",
       "weighted avg    0.98"
      ]
     },
     "execution_count": 377,
     "metadata": {},
     "output_type": "execute_result"
    }
   ],
   "source": [
    "report_lgbm = classification_report(y_test_decoded, y_pred, output_dict=True)\n",
    "# convert the report to a dataframe\n",
    "report_lgbm = pd.DataFrame(report_lgbm).transpose()\n",
    "print(report_lgbm)\n",
    "recall_test_lgbm = get_recall_scores(report_lgbm)\n",
    "recall_test_lgbm"
   ]
  },
  {
   "attachments": {},
   "cell_type": "markdown",
   "metadata": {},
   "source": [
    "This is quite remarkable. The defauly LightGBM model achived a macro average recall value of 0.96. All recall scores are above 0.93. \n",
    "\n",
    "Amazing! "
   ]
  },
  {
   "attachments": {},
   "cell_type": "markdown",
   "metadata": {},
   "source": [
    "### Plot the evaluation results "
   ]
  },
  {
   "cell_type": "code",
   "execution_count": 381,
   "metadata": {},
   "outputs": [
    {
     "data": {
      "image/png": "[encoded data removed]",
      "text/plain": [
       "<Figure size 1000x500 with 1 Axes>"
      ]
     },
     "metadata": {},
     "output_type": "display_data"
    }
   ],
   "source": [
    "recall_test_lgbm = pd.DataFrame(recall_test_lgbm)\n",
    "recall_test_lgbm.columns = [\"LightGBM_NO_HPO\"]\n",
    "recall_test_comb = pd.concat([recall_test_comb, recall_test_lgbm], axis=1)\n",
    "recall_test_comb.plot(kind=\"bar\", figsize=(10, 5), rot=0)\n",
    "plt.ylim(0.7, 1.1)\n",
    "# xlabels vertical\n",
    "plt.xticks(rotation=90)\n",
    "plt.title(\"Recall Scores for Test Set\")\n",
    "plt.ylabel(\"Recall Score\")\n",
    "plt.show()"
   ]
  },
  {
   "attachments": {},
   "cell_type": "markdown",
   "metadata": {},
   "source": [
    "### Feature Importance\n",
    "\n",
    "This is also the other added advantage of tree based models. They provide a feature importance "
   ]
  },
  {
   "cell_type": "code",
   "execution_count": 386,
   "metadata": {},
   "outputs": [
    {
     "data": {
      "image/png": "[encoded data removed]",
      "text/plain": [
       "<Figure size 500x800 with 1 Axes>"
      ]
     },
     "metadata": {},
     "output_type": "display_data"
    }
   ],
   "source": [
    "# Feature importance\n",
    "\n",
    "# get the feature importance\n",
    "feature_importance = lgbm.feature_importances_\n",
    "\n",
    "# sort the feature importance in descending order\n",
    "feature_importance = sorted(feature_importance, reverse=True)\n",
    "# fig size\n",
    "plt.figure(figsize=(5, 8))\n",
    "# plot the feature importance using seaborn\n",
    "sns.barplot(x=feature_importance, y=feature_list)\n",
    "plt.show()"
   ]
  },
  {
   "attachments": {},
   "cell_type": "markdown",
   "metadata": {},
   "source": [
    "The short term lag features were the top ones. Among them, voltage is the most important one. "
   ]
  }
 ],
 "metadata": {
  "kernelspec": {
   "display_name": "Python 3",
   "language": "python",
   "name": "python3"
  },
  "language_info": {
   "codemirror_mode": {
    "name": "ipython",
    "version": 3
   },
   "file_extension": ".py",
   "mimetype": "text/x-python",
   "name": "python",
   "nbconvert_exporter": "python",
   "pygments_lexer": "ipython3",
   "version": "3.10.2"
  }
 },
 "nbformat": 4,
 "nbformat_minor": 1
}
